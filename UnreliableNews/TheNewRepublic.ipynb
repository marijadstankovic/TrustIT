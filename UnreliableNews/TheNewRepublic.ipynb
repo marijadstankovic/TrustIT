{
 "cells": [
  {
   "cell_type": "code",
   "execution_count": null,
   "metadata": {},
   "outputs": [],
   "source": [
    "import requests\n",
    "from bs4 import BeautifulSoup\n",
    "from datetime import datetime\n",
    "import traceback\n",
    "import logging\n",
    "import ReadWriteCSV\n",
    "\n",
    "def scraping(array_of_ids):\n",
    "    url = 'https://newrepublic.com' # url to scrape from\n",
    "    hrefs=['/latest/', '/tags/politics/', '/tags/culture/', '/tags/climate-change/']\n",
    "    \n",
    "    total=0\n",
    "    successfull=0    \n",
    "    for adds in hrefs:\n",
    "        page = requests.get(url+adds)  # to get a webpage\n",
    "        soup = BeautifulSoup(page.content, 'html.parser') # give a BeautifulSoup object, which represents the document \n",
    "                                                   # as a nested data structure\n",
    "        div=soup.find_all(itemprop=\"headline\") # itemprop of required divs\n",
    "        for b in div: # selected div from part of the page containing the article link\n",
    "            a = b.find('a', href=True)  # all <a href> links \n",
    "            if a is not None:\n",
    "                total=total+1\n",
    "                \n",
    "                news={}\n",
    "                news['_id'] = a['href']\n",
    "                if news['_id'] in array_of_ids:  # checking if the article already exists in the database\n",
    "                    continue\n",
    "            \n",
    "                article=requests.get(url+a['href'])\n",
    "                soup = BeautifulSoup(article.content, 'html.parser')\n",
    "                test=soup.find(class_=\"article-headline\") # link testing\n",
    "                if test is not None:  # if the link is good test is not None\n",
    "                    #news['_id']=a['href']\n",
    "                    news['source']=url\n",
    "                    news['title'] = soup.find(class_=\"article-headline\").get_text()\n",
    "\n",
    "                    var=soup.find(class_=\"article-date\").get_text()\n",
    "                    news['date']=datetime.strptime(var, '%B %d, %Y')\n",
    "#                     print(news['date'])\n",
    "                    #the text is composed of several smaller ones \n",
    "                    array_text=soup.find(\"div\",\"article-body\").find_all(\"p\")\n",
    "                    text=''\n",
    "                    \n",
    "                    for t in array_text:\n",
    "                        text+=t.get_text()\n",
    "\n",
    "                    news['text']= text\n",
    "                    \n",
    "                    #writing data into database\n",
    "                    ReadWriteCSV.write(news)\n",
    "                    \n",
    "                    successfull=successfull+1\n",
    "                    \n",
    "    print(successfull)\n",
    "    print(total)"
   ]
  },
  {
   "cell_type": "code",
   "execution_count": null,
   "metadata": {},
   "outputs": [],
   "source": [
    "# scraping(ReadWriteCSV.read())"
   ]
  }
 ],
 "metadata": {
  "kernelspec": {
   "display_name": "Python 3",
   "language": "python",
   "name": "python3"
  },
  "language_info": {
   "codemirror_mode": {
    "name": "ipython",
    "version": 3
   },
   "file_extension": ".py",
   "mimetype": "text/x-python",
   "name": "python",
   "nbconvert_exporter": "python",
   "pygments_lexer": "ipython3",
   "version": "3.7.4"
  }
 },
 "nbformat": 4,
 "nbformat_minor": 2
}
