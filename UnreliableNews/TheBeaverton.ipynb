{
 "cells": [
  {
   "cell_type": "code",
   "execution_count": 5,
   "metadata": {},
   "outputs": [],
   "source": [
    "import requests\n",
    "from bs4 import BeautifulSoup\n",
    "from datetime import datetime\n",
    "import traceback\n",
    "import logging\n",
    "import ReadWriteCSV\n",
    "\n",
    "def scraping(array_of_ids):\n",
    "    start_pages=[\"https://www.thebeaverton.com/news/national/\"]#, \"https://www.thebeaverton.com/news/world/\", \n",
    "\n",
    "    total = 0\n",
    "    successfull = 0\n",
    "    for start_page in start_pages:\n",
    "        main_page = requests.get(start_page)\n",
    "        main_soup = BeautifulSoup(main_page.content, 'html.parser')\n",
    "       \n",
    "        #small-12 medium-8 columns\n",
    "        links = main_soup.find(\"div\", class_=\"small-12 medium-8 columns\").find_all(\"article\")\n",
    "        #print(linkovi)\n",
    "        for link in links:\n",
    "            try:\n",
    "                href=link.find('a').get('href')\n",
    "                total = total+1\n",
    "                news = {}\n",
    "                news['_id'] = href[28:]  \n",
    "                #print(news['_id'])\n",
    "                #check if the news is already in the db\n",
    "                if news['_id'] in array_of_ids:\n",
    "                    continue        \n",
    "                array_of_ids.append(news['_id'])  \n",
    "                \n",
    "                page = requests.get(href)\n",
    "                soup = BeautifulSoup(page.content, 'html.parser')\n",
    "\n",
    "\n",
    "                news['title'] = soup.find(class_=\"entry-title\").get_text()\n",
    "                news['date'] = soup.find(class_=\"time\")['datetime']#+' '+supa.find(class_=\"article__timestamp\").get_text()\n",
    "                news['date'] = datetime.fromisoformat(news['date'])\n",
    "                #news['date'] = datetime.strptime(news['date'], '%d %b %Y, %H:%M')\n",
    "                #print(news['date'])\n",
    "                \n",
    "                news['source'] = \"https://www.thebeaverton.com\"\n",
    "                #news['_id'] = \"/2019/11/new-isis-leader-torn-between-striped-tie-and-paisley-tie-for-first-day/\"\n",
    "                news['text'] = ''\n",
    "\n",
    "                povi = soup.find(class_=\"post-content entry-content cf\").find_all(\"p\")\n",
    "                for p in povi:\n",
    "                    news['text'] = news['text']+\" \"+p.get_text()\n",
    "\n",
    "                ReadWriteCSV.write(news)\n",
    "                successfull = successfull+1\n",
    "            except:   \n",
    "                continue\n",
    "    print(total)\n",
    "    print(successfull)"
   ]
  },
  {
   "cell_type": "code",
   "execution_count": 6,
   "metadata": {},
   "outputs": [
    {
     "name": "stdout",
     "output_type": "stream",
     "text": [
      "10\n",
      "10\n"
     ]
    }
   ],
   "source": [
    "# scraping([])"
   ]
  },
  {
   "cell_type": "code",
   "execution_count": null,
   "metadata": {},
   "outputs": [],
   "source": []
  }
 ],
 "metadata": {
  "kernelspec": {
   "display_name": "Python 3",
   "language": "python",
   "name": "python3"
  },
  "language_info": {
   "codemirror_mode": {
    "name": "ipython",
    "version": 3
   },
   "file_extension": ".py",
   "mimetype": "text/x-python",
   "name": "python",
   "nbconvert_exporter": "python",
   "pygments_lexer": "ipython3",
   "version": "3.7.4"
  }
 },
 "nbformat": 4,
 "nbformat_minor": 2
}
