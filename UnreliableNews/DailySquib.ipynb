{
 "cells": [
  {
   "cell_type": "code",
   "execution_count": 1,
   "metadata": {},
   "outputs": [
    {
     "name": "stdout",
     "output_type": "stream",
     "text": [
      "15\n"
     ]
    }
   ],
   "source": [
    "import requests\n",
    "from bs4 import BeautifulSoup\n",
    "from datetime import datetime\n",
    "import traceback\n",
    "import logging\n",
    "import ReadWriteCSV\n",
    "\n",
    "def scraping(array_of_ids):\n",
    "    main_page = requests.get(\"https://www.dailysquib.co.uk/category/world\")\n",
    "    main_soup = BeautifulSoup(main_page.content, 'html.parser')\n",
    "    \n",
    "    divs = main_soup.find(class_=\"td-ss-main-content\").find_all(\"div\", class_=\"td-block-span6\")\n",
    "    links = []\n",
    "    for div in divs:\n",
    "        links.append(div.find(\"a\")['href'])\n",
    "    \n",
    "    total = 0\n",
    "    successfull = 0\n",
    "    for link in links:\n",
    "        news = {}\n",
    "        news['_id'] = link[28:]\n",
    "        \n",
    "        if news['_id'] in array_of_ids:\n",
    "            continue        \n",
    "        array_of_ids.append(news['_id'])\n",
    "        \n",
    "        myLink = link\n",
    "        total = total + 1\n",
    "        \n",
    "        try:            \n",
    "            page = requests.get(myLink)\n",
    "            soup = BeautifulSoup(page.content, 'html.parser')\n",
    "\n",
    "            news['title'] = soup.find(class_=\"entry-title\").get_text()\n",
    "            news['date'] = soup.find(\"time\", class_=\"entry-date updated td-module-date\")['datetime']\n",
    "            news['date'] = datetime.fromisoformat(news['date'])\n",
    "            news['source'] = \"https://www.dailysquib.co.uk\"\n",
    "            news['text'] = ''\n",
    "            ps = soup.find(class_=\"td-post-content\").find_all(\"p\")\n",
    "            for p in ps:\n",
    "                news['text'] = news['text']+\" \"+p.get_text()\n",
    "\n",
    "            ReadWriteCSV.write(news)    \n",
    "            successfull = successfull +1\n",
    "        except:\n",
    "            continue\n",
    "    print(successfull)\n",
    "    print(total)"
   ]
  },
  {
   "cell_type": "code",
   "execution_count": 2,
   "metadata": {},
   "outputs": [
    {
     "ename": "TypeError",
     "evalue": "read() missing 1 required positional argument: 'path'",
     "output_type": "error",
     "traceback": [
      "\u001b[1;31m---------------------------------------------------------------------------\u001b[0m",
      "\u001b[1;31mTypeError\u001b[0m                                 Traceback (most recent call last)",
      "\u001b[1;32m<ipython-input-2-feb9be59f029>\u001b[0m in \u001b[0;36m<module>\u001b[1;34m\u001b[0m\n\u001b[1;32m----> 1\u001b[1;33m \u001b[0mscraping\u001b[0m\u001b[1;33m(\u001b[0m\u001b[0mReadWriteCSV\u001b[0m\u001b[1;33m.\u001b[0m\u001b[0mread\u001b[0m\u001b[1;33m(\u001b[0m\u001b[1;33m)\u001b[0m\u001b[1;33m)\u001b[0m\u001b[1;33m\u001b[0m\u001b[1;33m\u001b[0m\u001b[0m\n\u001b[0m",
      "\u001b[1;31mTypeError\u001b[0m: read() missing 1 required positional argument: 'path'"
     ]
    }
   ],
   "source": [
    "#scraping([])"
   ]
  },
  {
   "cell_type": "code",
   "execution_count": null,
   "metadata": {},
   "outputs": [],
   "source": []
  }
 ],
 "metadata": {
  "kernelspec": {
   "display_name": "Python 3",
   "language": "python",
   "name": "python3"
  },
  "language_info": {
   "codemirror_mode": {
    "name": "ipython",
    "version": 3
   },
   "file_extension": ".py",
   "mimetype": "text/x-python",
   "name": "python",
   "nbconvert_exporter": "python",
   "pygments_lexer": "ipython3",
   "version": "3.7.4"
  }
 },
 "nbformat": 4,
 "nbformat_minor": 2
}
