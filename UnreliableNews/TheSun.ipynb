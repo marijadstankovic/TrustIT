{
 "cells": [
  {
   "cell_type": "code",
   "execution_count": 3,
   "metadata": {},
   "outputs": [],
   "source": [
    "import requests\n",
    "from bs4 import BeautifulSoup\n",
    "from datetime import datetime\n",
    "import traceback\n",
    "import logging\n",
    "import ReadWriteCSV\n",
    "\n",
    "def scraping(array_of_ids):\n",
    "    main_page = requests.get(\"https://www.thesun.co.uk/news/\")\n",
    "    main_soup = BeautifulSoup(main_page.content, 'html.parser')\n",
    "    \n",
    "    aovi = main_soup.find_all(\"a\")\n",
    "    successfull=0\n",
    "    total=0\n",
    "    oldLink=''\n",
    "    \n",
    "    for a in aovi:\n",
    "        myLink = a['href']\n",
    "        total=total+1\n",
    "        #check if it is the sun and if it is longer than base link\n",
    "        if myLink[0:25] != \"https://www.thesun.co.uk/\":\n",
    "            continue\n",
    "        if len(myLink) < 40:\n",
    "            continue\n",
    "        if oldLink == myLink:\n",
    "            continue\n",
    "        oldLink=myLink\n",
    "        href=myLink[25:]\n",
    "        if href in array_of_ids:\n",
    "            continue        \n",
    "        array_of_ids.append(href)\n",
    "        try:\n",
    "            page = requests.get(myLink)\n",
    "            supa = BeautifulSoup(page.content, 'html.parser')\n",
    "            news = {}\n",
    "            news['title'] = supa.find(class_=\"article__headline\").get_text()\n",
    "            news['date'] = supa.find(class_=\"article__datestamp\").get_text()+' '+supa.find(class_=\"article__timestamp\").get_text()\n",
    "            news['date'] = datetime.strptime(news['date'], '%d %b %Y, %H:%M')\n",
    "            news['source'] = \"https://www.thesun.co.uk\"\n",
    "            news['_id'] = href\n",
    "            news['text'] = ''\n",
    "            povi = supa.find(class_=\"article__content\").find_all(\"p\")\n",
    "            for p in povi:\n",
    "                news['text'] = news['text']+\" \"+p.get_text()\n",
    "            \n",
    "            ReadWriteCSV.write(news)    \n",
    "            successfull=successfull+1\n",
    "        except:\n",
    "            continue\n",
    "\n",
    "    print(successfull)\n",
    "    print(total)"
   ]
  },
  {
   "cell_type": "code",
   "execution_count": 4,
   "metadata": {},
   "outputs": [
    {
     "name": "stdout",
     "output_type": "stream",
     "text": [
      "93\n",
      "584\n"
     ]
    }
   ],
   "source": [
    "# scraping([])"
   ]
  },
  {
   "cell_type": "code",
   "execution_count": null,
   "metadata": {},
   "outputs": [],
   "source": []
  }
 ],
 "metadata": {
  "kernelspec": {
   "display_name": "Python 3",
   "language": "python",
   "name": "python3"
  },
  "language_info": {
   "codemirror_mode": {
    "name": "ipython",
    "version": 3
   },
   "file_extension": ".py",
   "mimetype": "text/x-python",
   "name": "python",
   "nbconvert_exporter": "python",
   "pygments_lexer": "ipython3",
   "version": "3.7.4"
  }
 },
 "nbformat": 4,
 "nbformat_minor": 2
}
