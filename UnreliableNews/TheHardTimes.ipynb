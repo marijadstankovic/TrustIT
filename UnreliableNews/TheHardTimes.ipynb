{
 "cells": [
  {
   "cell_type": "code",
   "execution_count": 1,
   "metadata": {},
   "outputs": [
    {
     "name": "stdout",
     "output_type": "stream",
     "text": [
      "20\n"
     ]
    }
   ],
   "source": [
    "import requests\n",
    "from bs4 import BeautifulSoup\n",
    "from datetime import datetime\n",
    "import traceback\n",
    "import logging\n",
    "import ReadWriteCSV\n",
    "\n",
    "def scraping(array_of_ids):\n",
    "    main_page = requests.get(\"https://thehardtimes.net/news/\")\n",
    "    main_soup = BeautifulSoup(main_page.content, 'html.parser')\n",
    "    \n",
    "    links = []\n",
    "    divs = main_soup.find(id=\"loop-container\").findChildren(\"div\", recursive = False)\n",
    "    for div in divs:\n",
    "        links.append(div.find(\"a\")['href'])\n",
    "        \n",
    "    total = 0\n",
    "    successfull = 0\n",
    "    for link in links:\n",
    "        news = {}\n",
    "        news['_id'] = link[24:]\n",
    "        myLink = link\n",
    "        total = total + 1\n",
    "\n",
    "        if news['_id'] in array_of_ids:\n",
    "            continue        \n",
    "        array_of_ids.append(news['_id'])\n",
    "        \n",
    "        try:\n",
    "            page = requests.get(myLink)\n",
    "            soup = BeautifulSoup(page.content, 'html.parser')\n",
    "\n",
    "            news['title'] = soup.find(class_=\"post-title\").get_text()\n",
    "\n",
    "            news['date'] = soup.find(\"p\", class_=\"post-byline\").get_text().split(\"|\")[1].strip()\n",
    "            parts = news['date'].split(\" \")\n",
    "            if len(parts[0])<2:\n",
    "                parts[0]=\"0\"+parts[0]\n",
    "            news['date'] = parts[0]+\" \"+parts[1]+\" \"+parts[2]\n",
    "            news['date'] = datetime.strptime(news['date'], \"%B %d, %Y\")\n",
    "\n",
    "            news['source'] = \"https://thehardtimes.net\"\n",
    "            news['text'] = ''\n",
    "\n",
    "            povi = soup.find(class_=\"post-content\").find_all(\"p\")\n",
    "            for p in povi:\n",
    "                news['text'] = news['text']+\" \"+p.get_text()\n",
    "\n",
    "            ReadWriteCSV.write(news)  \n",
    "            successfull = successfull +1\n",
    "        except:\n",
    "            continue\n",
    "\n",
    "    print(successfull)\n",
    "    print(total)"
   ]
  },
  {
   "cell_type": "code",
   "execution_count": 2,
   "metadata": {},
   "outputs": [
    {
     "name": "stdout",
     "output_type": "stream",
     "text": [
      "15\n",
      "15\n"
     ]
    }
   ],
   "source": [
    "# scraping([])"
   ]
  },
  {
   "cell_type": "code",
   "execution_count": null,
   "metadata": {},
   "outputs": [],
   "source": []
  }
 ],
 "metadata": {
  "kernelspec": {
   "display_name": "Python 3",
   "language": "python",
   "name": "python3"
  },
  "language_info": {
   "codemirror_mode": {
    "name": "ipython",
    "version": 3
   },
   "file_extension": ".py",
   "mimetype": "text/x-python",
   "name": "python",
   "nbconvert_exporter": "python",
   "pygments_lexer": "ipython3",
   "version": "3.7.4"
  }
 },
 "nbformat": 4,
 "nbformat_minor": 2
}
