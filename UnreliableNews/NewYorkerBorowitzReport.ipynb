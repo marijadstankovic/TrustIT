{
 "cells": [
  {
   "cell_type": "code",
   "execution_count": 1,
   "metadata": {},
   "outputs": [
    {
     "name": "stdout",
     "output_type": "stream",
     "text": [
      "748\n"
     ]
    }
   ],
   "source": [
    "import requests\n",
    "from bs4 import BeautifulSoup\n",
    "from datetime import datetime\n",
    "import traceback\n",
    "import logging\n",
    "import ReadWriteCSV\n",
    "\n",
    "def scraping(array_of_ids):\n",
    "    pagina = requests.get(\"https://www.newyorker.com/humor/borowitz-report\")\n",
    "    sopa = BeautifulSoup(pagina.content, 'html.parser')\n",
    "\n",
    "    lis = sopa.find(class_=\"River__list___2_45v\").find_all(\"li\")\n",
    "    total = 0\n",
    "    successfull = 0\n",
    "    \n",
    "    for li in lis:\n",
    "        news = {}\n",
    "        news['_id'] = li.find(\"a\")['href']\n",
    "        myLink = \"https://www.newyorker.com\" + news['_id']\n",
    "        total = total + 1\n",
    "        \n",
    "        #https://www.newyorker.com/humor/borowitz-report/everywhere-she-went-turned-bad-says-man-with-six-bankruptcies\n",
    "        \n",
    "        if news['_id'] in array_of_ids:\n",
    "            continue\n",
    "        \n",
    "        array_of_ids.append(news['_id'])\n",
    "#         print(myLink)\n",
    "        try:\n",
    "            page = requests.get(myLink)\n",
    "            supa = BeautifulSoup(page.content, 'html.parser')\n",
    "\n",
    "            news['title'] = supa.find(class_=\"content-header__row content-header__hed\").get_text()\n",
    "#             print(news['title'])\n",
    "            news['date'] = supa.find(\"time\").get_text()\n",
    "            parts = news['date'].split(\" \")\n",
    "            if len(parts[0])<2:\n",
    "                parts[0]=\"0\"+parts[0]\n",
    "            news['date'] = parts[0]+\" \"+parts[1]+\" \"+parts[2]\n",
    "            news['date'] = datetime.strptime(news['date'], \"%B %d, %Y\")\n",
    "#             print(news['date'])\n",
    "\n",
    "            news['source'] = \"https://www.newyorker.com\"\n",
    "            news['text'] = ''\n",
    "\n",
    "            povi = supa.find(class_=\"grid--item body body__container article__body grid-layout__content\").find_all(\"p\")\n",
    "            for p in povi:\n",
    "                news['text'] = news['text']+\" \"+p.get_text()\n",
    "\n",
    "            ReadWriteCSV.write(news)\n",
    "\n",
    "            successfull = successfull +1\n",
    "        except:\n",
    "            continue\n",
    "\n",
    "    print(successfull)\n",
    "    print(total)"
   ]
  },
  {
   "cell_type": "code",
   "execution_count": 2,
   "metadata": {},
   "outputs": [
    {
     "name": "stdout",
     "output_type": "stream",
     "text": [
      "10\n",
      "10\n"
     ]
    }
   ],
   "source": [
    " scraping([])"
   ]
  }
 ],
 "metadata": {
  "kernelspec": {
   "display_name": "Python 3",
   "language": "python",
   "name": "python3"
  },
  "language_info": {
   "codemirror_mode": {
    "name": "ipython",
    "version": 3
   },
   "file_extension": ".py",
   "mimetype": "text/x-python",
   "name": "python",
   "nbconvert_exporter": "python",
   "pygments_lexer": "ipython3",
   "version": "3.7.4"
  }
 },
 "nbformat": 4,
 "nbformat_minor": 2
}
