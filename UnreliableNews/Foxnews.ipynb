{
 "cells": [
  {
   "cell_type": "code",
   "execution_count": null,
   "metadata": {},
   "outputs": [],
   "source": [
    "import requests\n",
    "from bs4 import BeautifulSoup\n",
    "from datetime import datetime\n",
    "from datetime import timedelta\n",
    "import traceback\n",
    "import logging\n",
    "import ReadWriteCSV\n",
    "\n",
    "def scraping(array_of_ids):\n",
    "    news = {} # structure for scraped data\n",
    "    url = 'https://www.foxnews.com' # url to scrape from\n",
    "    hrefs=['/us/', '/world/', '/opinion/', '/politics/', '/entertainment/', '/business/']\n",
    "    \n",
    "    total = 0\n",
    "    successfull = 0    \n",
    "    for adds in hrefs:  # first for statement\n",
    "        page = requests.get(url+adds) # to get a webpage\n",
    "        soup = BeautifulSoup(page.content, 'html.parser') # give a BeautifulSoup object, which represents the document \n",
    "                                                           # as a nested data structure\n",
    "        div=soup.find_all(class_=\"title\")  # class of required divs\n",
    "\n",
    "        for b in div:  # second for statement\n",
    "        \n",
    "            a = b.find('a', href=True)  # all <a href> links \n",
    "            if a is not None:\n",
    "                if a['href'].find(\"https\") < 0:\n",
    "                    #check if it is in a database\n",
    "                    total = total+1\n",
    "                    if a['href'] in array_of_ids:\n",
    "                        continue        \n",
    "                    array_of_ids.append(a['href'])\n",
    "                \n",
    "                    article=requests.get(url+a['href'])\n",
    "                    #print(url+a['href'])\n",
    "                    soup = BeautifulSoup(article.content, 'html.parser')\n",
    "                    test=soup.find(class_=\"headline\")  # link testing\n",
    "                    if test is not None: # if the link is good test is not None\n",
    "                        news[\"_id\"]=a['href']\n",
    "                        news[\"source\"]=url\n",
    "                        news['title'] = soup.find(class_=\"headline\").get_text()\n",
    "\n",
    "                        # date format of the article is: 2 hours/minutes/days ago\n",
    "                        pom = soup.find(class_=\"article-date\").get_text()\n",
    "                        pom=pom.split(\" \")\n",
    "                        if pom[2] == \"day\" or pom[2] == \"days\":\n",
    "                            news['date']=datetime.today()-timedelta(days=int(pom[1]))\n",
    "                        else:\n",
    "                            news['date']=datetime.today()\n",
    "                        news['date'].date()\n",
    "\n",
    "                        #the text is composed of several smaller ones \n",
    "                        array_text=soup.find(\"div\",\"article-body\").find_all(\"p\")\n",
    "                        text=''\n",
    "\n",
    "                        for t in array_text:\n",
    "                            text+=t.get_text()\n",
    "\n",
    "                        news['text']= text\n",
    "                        \n",
    "                        ReadWriteCSV.write(news)\n",
    "                        successfull = successfull+1\n",
    "                        \n",
    "    print(total)\n",
    "    print(successfull)"
   ]
  },
  {
   "cell_type": "code",
   "execution_count": null,
   "metadata": {},
   "outputs": [],
   "source": [
    "# scraping([])"
   ]
  }
 ],
 "metadata": {
  "kernelspec": {
   "display_name": "Python 3",
   "language": "python",
   "name": "python3"
  },
  "language_info": {
   "codemirror_mode": {
    "name": "ipython",
    "version": 3
   },
   "file_extension": ".py",
   "mimetype": "text/x-python",
   "name": "python",
   "nbconvert_exporter": "python",
   "pygments_lexer": "ipython3",
   "version": "3.7.4"
  }
 },
 "nbformat": 4,
 "nbformat_minor": 2
}
