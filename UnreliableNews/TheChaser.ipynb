{
 "cells": [
  {
   "cell_type": "code",
   "execution_count": null,
   "metadata": {},
   "outputs": [],
   "source": [
    "import requests\n",
    "from bs4 import BeautifulSoup\n",
    "from datetime import datetime\n",
    "import traceback\n",
    "import logging\n",
    "import ReadWriteCSV\n",
    "\n",
    "def scraping(array_of_ids):\n",
    "    main_page = requests.get(\"https://chaser.com.au/\")\n",
    "    main_soup = BeautifulSoup(main_page.content, 'html.parser')\n",
    "    \n",
    "    links = []\n",
    "    table_row = main_soup.find(\"div\", class_=\"table row_1\").find_all(\"a\")\n",
    "    for a in table_row:\n",
    "        links.append(a['href'])\n",
    "    table_row = main_soup.find(\"div\", class_=\"table row_2\").find_all(\"a\")\n",
    "    for a in table_row:\n",
    "        links.append(a['href'])\n",
    "        \n",
    "    total = 0\n",
    "    successfull = 0\n",
    "    for link in links:\n",
    "        news = {}\n",
    "        news['_id'] = link[21:]\n",
    "        \n",
    "        if news['_id'] in array_of_ids:\n",
    "            continue\n",
    "        array_of_ids.append(news['_id'])\n",
    "        \n",
    "        myLink = link\n",
    "        total = total + 1\n",
    "        \n",
    "        try:\n",
    "            page = requests.get(myLink)\n",
    "            soap = BeautifulSoup(page.content, 'html.parser')\n",
    "\n",
    "            news['title'] = soap.find(class_=\"title_title\").get_text()\n",
    "            news['date'] = soap.find(\"time\", class_=\"entry-date\")['datetime']\n",
    "            news['date'] = datetime.fromisoformat(news['date'])\n",
    "            news['source'] = \"https://chaser.com.au\"\n",
    "            news['text'] = ''\n",
    "\n",
    "            ps = soap.find(\"article\").findChildren(\"p\", recursive = False)\n",
    "            #print(ps[0].get_text().split(\"fusetag\")[0].strip())\n",
    "            i=0\n",
    "            for p in ps:\n",
    "                try:\n",
    "                    if i==0:\n",
    "                        news['text'] = news['text']+\" \"+p.get_text().split(\"fusetag\")[0].strip()\n",
    "                    else:\n",
    "                        news['text'] = news['text']+\" \"+p.get_text()\n",
    "                    i=i+1\n",
    "\n",
    "                except:\n",
    "                    continue\n",
    "\n",
    "            ReadWriteCSV.write(news)\n",
    "            successfull = successfull +1\n",
    "        except:\n",
    "            continue\n",
    "    print(successfull)\n",
    "    print(total)"
   ]
  },
  {
   "cell_type": "code",
   "execution_count": null,
   "metadata": {},
   "outputs": [],
   "source": [
    "# scraping(ReadWriteCSV.read())"
   ]
  }
 ],
 "metadata": {
  "kernelspec": {
   "display_name": "Python 3",
   "language": "python",
   "name": "python3"
  },
  "language_info": {
   "codemirror_mode": {
    "name": "ipython",
    "version": 3
   },
   "file_extension": ".py",
   "mimetype": "text/x-python",
   "name": "python",
   "nbconvert_exporter": "python",
   "pygments_lexer": "ipython3",
   "version": "3.7.4"
  }
 },
 "nbformat": 4,
 "nbformat_minor": 2
}
