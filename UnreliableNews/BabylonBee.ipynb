{
 "cells": [
  {
   "cell_type": "code",
   "execution_count": 1,
   "metadata": {},
   "outputs": [
    {
     "name": "stdout",
     "output_type": "stream",
     "text": [
      "22\n"
     ]
    }
   ],
   "source": [
    "import requests\n",
    "from bs4 import BeautifulSoup\n",
    "from datetime import datetime\n",
    "import traceback\n",
    "import logging\n",
    "import ReadWriteCSV\n",
    "\n",
    "def scraping(array_of_ids):\n",
    "    main_page = requests.get(\"https://babylonbee.com/news\")\n",
    "    main_soup = BeautifulSoup(main_page.content, 'html.parser')\n",
    "    \n",
    "    divs = main_soup.find(\"div\", class_=\"row mb-2 gutter-4\").find_all(\"article-card\")\n",
    "    success = 0\n",
    "    total = 0\n",
    "    for div in divs: \n",
    "        try:\n",
    "            total = total+1\n",
    "\n",
    "            news = {}\n",
    "            news['_id'] = div[':path'][1:-1]\n",
    "            #check if it is in the base\n",
    "            if news['_id'] in array_of_ids:\n",
    "                continue        \n",
    "            array_of_ids.append(news['_id'])\n",
    "            \n",
    "            link = \"https://babylonbee.com/\"+news['_id']\n",
    "            #get\n",
    "            page = requests.get(link)\n",
    "            soup = BeautifulSoup(page.content, 'html.parser')\n",
    "\n",
    "            news['title'] = soup.find(class_=\"large-article-title mb-1 font-weight-bold\").get_text()\n",
    "            #print(news['title'])\n",
    "            parts = soup.find(class_=\"article-date mb-2\").get_text().split(\",\")\n",
    "            news['date'] = parts[0][:-2]+parts[1]\n",
    "            news['date'] = datetime.strptime(news['date'], '%B %d %Y')\n",
    "            #print(news['date'])\n",
    "            news['source'] = \"https://babylonbee.com/\"\n",
    "            news['text'] = ''\n",
    "\n",
    "            ps = soup.find(class_=\"article-content mb-2\").find_all(\"p\")\n",
    "            for p in ps:\n",
    "                news['text'] = news['text']+\" \"+p.get_text()\n",
    "            \n",
    "            ReadWriteCSV.write(news)\n",
    "            success = success+1\n",
    "        except:\n",
    "            continue\n",
    "    print(success)\n",
    "    print(total)"
   ]
  },
  {
   "cell_type": "code",
   "execution_count": 2,
   "metadata": {},
   "outputs": [
    {
     "name": "stdout",
     "output_type": "stream",
     "text": [
      "20\n",
      "20\n"
     ]
    }
   ],
   "source": [
    "#scraping([])"
   ]
  },
  {
   "cell_type": "code",
   "execution_count": null,
   "metadata": {},
   "outputs": [],
   "source": []
  }
 ],
 "metadata": {
  "kernelspec": {
   "display_name": "Python 3",
   "language": "python",
   "name": "python3"
  },
  "language_info": {
   "codemirror_mode": {
    "name": "ipython",
    "version": 3
   },
   "file_extension": ".py",
   "mimetype": "text/x-python",
   "name": "python",
   "nbconvert_exporter": "python",
   "pygments_lexer": "ipython3",
   "version": "3.7.4"
  }
 },
 "nbformat": 4,
 "nbformat_minor": 2
}
