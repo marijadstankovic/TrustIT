{
 "cells": [
  {
   "cell_type": "code",
   "execution_count": 1,
   "metadata": {
    "scrolled": false
   },
   "outputs": [
    {
     "name": "stdout",
     "output_type": "stream",
     "text": [
      "data deleted  0  from  748\n",
      "0\n"
     ]
    }
   ],
   "source": [
    "import csv\n",
    "\n",
    "data = []\n",
    "duplicates = []\n",
    "i = 0\n",
    "j=0\n",
    "with open(\"unreliable.csv\", 'r', encoding=\"utf8\") as old:\n",
    "    reader = csv.reader(old)\n",
    "    for row in reader:\n",
    "        j=j+1\n",
    "        #first check if it is already read\n",
    "        read = False\n",
    "        for d in data:\n",
    "            if d[0] == row[0]:\n",
    "                read=True\n",
    "        if read:\n",
    "            i=i+1\n",
    "            print(row[0])\n",
    "            duplicates.append(row[0])\n",
    "            continue\n",
    "        data.append(row)\n",
    "        \n",
    "print(\"data deleted \", i,\" from \",  j)\n",
    "print(len(duplicates))"
   ]
  },
  {
   "cell_type": "code",
   "execution_count": 12,
   "metadata": {},
   "outputs": [],
   "source": [
    "with open(\"unreliable.csv\", 'w', encoding='utf8', newline='') as new:\n",
    "    writer = csv.writer(new)\n",
    "#     writer.writerow([\"_id\",\"title\",\"date\",\"source\",\"text\"]) ne upisujes ovo jer ga imas u data...\n",
    "    i=0\n",
    "    for d in data:\n",
    "        if d[0] in duplicates:\n",
    "            i=i+1\n",
    "            continue\n",
    "        writer.writerow(d)"
   ]
  },
  {
   "cell_type": "code",
   "execution_count": 13,
   "metadata": {},
   "outputs": [
    {
     "name": "stdout",
     "output_type": "stream",
     "text": [
      "746\n"
     ]
    }
   ],
   "source": [
    "print(len(data))"
   ]
  },
  {
   "cell_type": "code",
   "execution_count": 2,
   "metadata": {},
   "outputs": [
    {
     "name": "stdout",
     "output_type": "stream",
     "text": [
      "748\n"
     ]
    }
   ],
   "source": [
    "import ReadWriteCSV\n",
    "\n"
   ]
  },
  {
   "cell_type": "code",
   "execution_count": 3,
   "metadata": {},
   "outputs": [
    {
     "name": "stdout",
     "output_type": "stream",
     "text": [
      "748\n"
     ]
    }
   ],
   "source": [
    "print(len(ReadWriteCSV.read()))"
   ]
  },
  {
   "cell_type": "code",
   "execution_count": 6,
   "metadata": {},
   "outputs": [
    {
     "name": "stdout",
     "output_type": "stream",
     "text": [
      "0\n",
      "1\n",
      "2\n",
      "3\n",
      "4\n",
      "5\n"
     ]
    }
   ],
   "source": [
    "\n",
    "#testing continue\n",
    "\n",
    "for i in range(0, 10):\n",
    "    if i>3:\n",
    "        if i>4:\n",
    "            if i>5:\n",
    "                continue\n",
    "    print(i)"
   ]
  },
  {
   "cell_type": "code",
   "execution_count": 7,
   "metadata": {},
   "outputs": [
    {
     "name": "stdout",
     "output_type": "stream",
     "text": [
      "abc def\n"
     ]
    }
   ],
   "source": [
    "a =\"abc\"\n",
    "b=a\n",
    "a=\"def\"\n",
    "print(b, a)"
   ]
  },
  {
   "cell_type": "code",
   "execution_count": null,
   "metadata": {},
   "outputs": [],
   "source": []
  }
 ],
 "metadata": {
  "kernelspec": {
   "display_name": "Python 3",
   "language": "python",
   "name": "python3"
  },
  "language_info": {
   "codemirror_mode": {
    "name": "ipython",
    "version": 3
   },
   "file_extension": ".py",
   "mimetype": "text/x-python",
   "name": "python",
   "nbconvert_exporter": "python",
   "pygments_lexer": "ipython3",
   "version": "3.7.4"
  }
 },
 "nbformat": 4,
 "nbformat_minor": 2
}
