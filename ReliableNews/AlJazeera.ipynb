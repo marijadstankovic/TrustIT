{
 "cells": [
  {
   "cell_type": "markdown",
   "metadata": {},
   "source": [
    "# The script for scraping news from aljazeera.com"
   ]
  },
  {
   "cell_type": "markdown",
   "metadata": {},
   "source": [
    "The libraries included are for scraping (requests and BeautifulSoup) and interacting with mongo database"
   ]
  },
  {
   "cell_type": "code",
   "execution_count": 5,
   "metadata": {},
   "outputs": [],
   "source": [
    "import requests\n",
    "from bs4 import BeautifulSoup\n",
    "from datetime import datetime\n",
    "import RReadWriteCSV"
   ]
  },
  {
   "cell_type": "markdown",
   "metadata": {},
   "source": [
    "Pages where news can be found are:"
   ]
  },
  {
   "cell_type": "code",
   "execution_count": 6,
   "metadata": {},
   "outputs": [],
   "source": [
    "start_pages=[\"https://www.aljazeera.com/news/\", \"https://www.aljazeera.com/topics/regions/middleeast.html\", \n",
    "       \"https://www.aljazeera.com/topics/regions/africa.html\", \"https://www.aljazeera.com/topics/regions/asia-pacific.html\",\n",
    "       \"https://www.aljazeera.com/topics/regions/us-canada.html\", \"https://www.aljazeera.com/topics/regions/latin-america.html\", \n",
    "      \"https://www.aljazeera.com/topics/regions/europe.html\", \"https://www.aljazeera.com/topics/regions/asia-pacific.html\"]\n"
   ]
  },
  {
   "cell_type": "markdown",
   "metadata": {},
   "source": [
    "The variable i counts how many successful writings we have.\n",
    "Links are taken from each page"
   ]
  },
  {
   "cell_type": "markdown",
   "metadata": {},
   "source": [
    "Each link is being checked:\n",
    "    if the href starts with \"/progremmes\" that page cannot be scraped with the link\n",
    "    if the link is already in the base it won't be added\n",
    "Additionaly in case some exception occur try-except block will handle it: it won't affect the next news to be scraped"
   ]
  },
  {
   "cell_type": "code",
   "execution_count": 7,
   "metadata": {},
   "outputs": [],
   "source": [
    "def scraping(array_of_ids):\n",
    "    count=0\n",
    "    for start_page in start_pages:\n",
    "        page = requests.get(start_page)\n",
    "        supa = BeautifulSoup(page.content, 'html.parser')\n",
    "        body = supa.find(id = \"placeholder1\")\n",
    "\n",
    "        linkovi = body.find_all(\"div\", class_=\"col-sm-7 topics-sec-item-cont\")\n",
    "        for link in linkovi:\n",
    "            try:\n",
    "                href=link.find_all('a')[1].get('href')\n",
    "                \n",
    "                if news['_id'] in array_of_ids:\n",
    "                    continue # ako pravi problem prvo ovo proveri\n",
    "                array_of_ids.append(news['_id'])\n",
    "                \n",
    "                \n",
    "                if href[0:11] != \"/programmes\":\n",
    "                    #check if the news is already in the db\n",
    "                    newLink = 'https://www.aljazeera.com' + href    \n",
    "                    page = requests.get(newLink)\n",
    "                    soup = BeautifulSoup(page.content, 'html.parser')\n",
    "                    news = {}\n",
    "\n",
    "                    news['_id'] = href\n",
    "                    news['title'] = soup.find(class_=\"article-heading\").find(\"h1\").get_text()\n",
    "                    news['date'] = soup.find(class_=\"timeagofunction\")['datetime']\n",
    "                    news['date'] = datetime.fromisoformat(news['date'])\n",
    "                    print(news['date'])\n",
    "                    news['source'] = \"https://www.aljazeera.com\"\n",
    "\n",
    "                    div = soup.find(class_=\"article-p-wrapper\")\n",
    "                    p_text=div.find_all('p')\n",
    "                    news['text']=''\n",
    "\n",
    "                    for x in p_text:\n",
    "                        news['text'] += x.get_text()\n",
    "                    RReadWriteCSV.write(news)\n",
    "                    count+=1\n",
    "                         \n",
    "            except:   \n",
    "                continue\n",
    "            "
   ]
  },
  {
   "cell_type": "markdown",
   "metadata": {},
   "source": [
    "Finally, the result of scaping is printed"
   ]
  },
  {
   "cell_type": "code",
   "execution_count": 8,
   "metadata": {},
   "outputs": [],
   "source": [
    "test=[]\n",
    "scraping(test)\n",
    "print(test)"
   ]
  }
 ],
 "metadata": {
  "kernelspec": {
   "display_name": "Python 3",
   "language": "python",
   "name": "python3"
  },
  "language_info": {
   "codemirror_mode": {
    "name": "ipython",
    "version": 3
   },
   "file_extension": ".py",
   "mimetype": "text/x-python",
   "name": "python",
   "nbconvert_exporter": "python",
   "pygments_lexer": "ipython3",
   "version": "3.7.4"
  }
 },
 "nbformat": 4,
 "nbformat_minor": 2
}
