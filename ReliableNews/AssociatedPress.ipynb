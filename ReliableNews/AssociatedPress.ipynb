{
 "cells": [
  {
   "cell_type": "markdown",
   "metadata": {},
   "source": [
    "# Scrape news articles from https://apnews.com/\n",
    "\n",
    "\n",
    "   This script uses Python library, BeautifulSoup, for scraping.\n",
    "The infromation requested is: title, published date and text.\n",
    "All data are stored in Mongodb. Additional data which are stored in the database are: id for each article and source of article.<br>\n",
    "Pymongo is the official MongoDB API that allows to easily perform mongodb operations with Python."
   ]
  },
  {
   "cell_type": "code",
   "execution_count": null,
   "metadata": {},
   "outputs": [],
   "source": [
    "import requests\n",
    "from bs4 import BeautifulSoup\n",
    "from datetime import date, datetime, timedelta\n",
    "import RReadWriteCSV"
   ]
  },
  {
   "cell_type": "markdown",
   "metadata": {},
   "source": [
    "The list hrefs contains name of topics on this site. <br>\n",
    "The link to the every topic is made like: url + topic_name\n",
    "topic_name is the element from a list."
   ]
  },
  {
   "cell_type": "code",
   "execution_count": null,
   "metadata": {},
   "outputs": [],
   "source": [
    "today = date.today()\n",
    "url = 'https://apnews.com' # url to scrape from\n",
    "hrefs=['/apf-topnews/','/apf-oddities/','/apf-technology/','/apf-business/','/apf-usnews/','/apf-science/','/apf-intlnews/','/apf-politics/','/apf-religion/']"
   ]
  },
  {
   "cell_type": "markdown",
   "metadata": {},
   "source": [
    "The first for statement iterates through a list of topics on this site. <br>\n",
    "The second for statement iterates through array of divs with the same class - these divs hold a link to news that is going to be scraped. <br>\n",
    "_this array of divs are located on the link: url + topic_name_"
   ]
  },
  {
   "cell_type": "code",
   "execution_count": null,
   "metadata": {},
   "outputs": [],
   "source": [
    "def scraping(array_of_ids):\n",
    "    successful=0\n",
    "    for adds in hrefs:\n",
    "        page = requests.get(url+adds) # to get a webpage\n",
    "        soup = BeautifulSoup(page.content, 'html.parser')  # give a BeautifulSoup object, which represents the document \n",
    "                                                           # as a nested data structure\n",
    "\n",
    "        div=soup.find_all(class_=\"CardHeadline\") # class of required divs\n",
    "\n",
    "        for b in div: # selected div from part of the page containing the article link\n",
    "            a = b.find('a', href=True)  # all <a href> links \n",
    "            if a is not None:\n",
    "                # checking if the article already exists in the database\n",
    "                news = {} # structure for scraped data\n",
    "                news['_id']=a['href']\n",
    "                    \n",
    "                if news['_id'] in array_of_ids:\n",
    "                    continue # ako pravi problem prvo ovo proveri     \n",
    "                array_of_ids.append(news['_id'])\n",
    "                \n",
    "                article=requests.get(url+a['href'])\n",
    "                soup = BeautifulSoup(article.content, 'html.parser')\n",
    "                test=soup.find(class_=\"CardHeadline\").find(\"h1\") # link testing\n",
    "                if test is not None:  # if the link is good test is not None\n",
    "                    \n",
    "                    news['source']=url\n",
    "                    news['title'] = soup.find(class_='CardHeadline').find(\"h1\").get_text()\n",
    "\n",
    "                    var=soup.find(class_=\"Timestamp\").get_text()\n",
    "                    news['date']=datetime.strptime(var, '%B %d, %Y %Z')\n",
    "                    print(news['date'])\n",
    "                    \n",
    "                    #the text is composed of several smaller ones \n",
    "                    array_text=soup.find(\"div\", \"Article\").find_all(\"p\")\n",
    "                    text=''\n",
    "\n",
    "                    for t in array_text:\n",
    "                        text+=t.get_text()\n",
    "                    news['text']= text\n",
    "                    successful=successful+1\n",
    "                    RReadWriteCSV.write(news)\n",
    "        print(successful)\n",
    "\n",
    "\n"
   ]
  },
  {
   "cell_type": "code",
   "execution_count": null,
   "metadata": {},
   "outputs": [],
   "source": [
    "test=[]\n",
    "scraping(test)"
   ]
  }
 ],
 "metadata": {
  "kernelspec": {
   "display_name": "Python 3",
   "language": "python",
   "name": "python3"
  },
  "language_info": {
   "codemirror_mode": {
    "name": "ipython",
    "version": 3
   },
   "file_extension": ".py",
   "mimetype": "text/x-python",
   "name": "python",
   "nbconvert_exporter": "python",
   "pygments_lexer": "ipython3",
   "version": "3.7.4"
  }
 },
 "nbformat": 4,
 "nbformat_minor": 2
}
