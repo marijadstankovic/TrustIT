{
 "cells": [
  {
   "cell_type": "markdown",
   "metadata": {},
   "source": [
    "# Scrape news articles from www.snopes.com\n",
    "\n",
    "\n",
    "   This script uses Python library, BeautifulSoup, for scraping.\n",
    "The infromation requested is: title, published date and text.\n",
    "All data are stored in Mongodb. Additional data which are stored in the database are: id for each article and source of article.<br>\n",
    "Pymongo is the official MongoDB API that allows to easily perform mongodb operations with Python."
   ]
  },
  {
   "cell_type": "code",
   "execution_count": 1,
   "metadata": {},
   "outputs": [],
   "source": [
    "import requests\n",
    "from bs4 import BeautifulSoup\n",
    "from datetime import datetime, timedelta\n",
    "import RReadWriteCSV"
   ]
  },
  {
   "cell_type": "code",
   "execution_count": 2,
   "metadata": {},
   "outputs": [],
   "source": [
    "url = 'https://www.snopes.com/news/' # url to scrape from"
   ]
  },
  {
   "cell_type": "markdown",
   "metadata": {},
   "source": [
    "The for statement iterates through array of divs with the same class - these divs hold a link to news that is going to be scraped."
   ]
  },
  {
   "cell_type": "code",
   "execution_count": 3,
   "metadata": {},
   "outputs": [
    {
     "name": "stdout",
     "output_type": "stream",
     "text": [
      "Why the Race for the Presidency Begins with the Iowa Caucus\n",
      "2020-01-31 00:00:00\n",
      "Four Myths the Trump Team Promoted About Andrew Johnson\n",
      "2020-01-31 00:00:00\n",
      "Humans Are Hardwired to Dismiss Facts That Don’t Fit Their Worldview\n",
      "2020-01-31 00:00:00\n",
      "Did TV Journalist Use a Racial Slur During Kobe Bryant Report?\n",
      "2020-01-27 00:00:00\n",
      "Does Impeachment Need a Crime? Not According to Framers of the Constitution\n",
      "2020-01-27 00:00:00\n",
      "NBA Star Kobe Bryant Killed in Helicopter Crash\n",
      "2020-01-26 00:00:00\n",
      "Should We Be Worried About the New Wuhan Coronavirus?\n",
      "2020-01-24 00:00:00\n",
      "Why Your Zodiac Sign Is Probably Wrong\n",
      "2020-01-24 00:00:00\n",
      "Why California Is Banning Chlorpyrifos, A Widely-Used Pesticide\n",
      "2020-01-23 00:00:00\n",
      "A Brief History of Black Names, From Perlie to Latasha\n",
      "2020-01-23 00:00:00\n",
      "Trump Administration Proposes Further Rollbacks to Obama-Era School Lunch Program\n",
      "2020-01-23 00:00:00\n",
      "What to Think When You’re Thinking About Impeachment: 5 Essential Reads\n",
      "2020-01-21 00:00:00\n",
      "No, This Isn’t Video of the Crash That Killed Kobe Bryant\n",
      "2020-01-27 00:00:00\n",
      "Bernie Sanders’ 1972 Essay on Rape\n",
      "2015-09-22 00:00:00\n",
      "Is the ‘Umbrella Corporation’ Logo Oddly Similar to a Wuhan Biotech Lab’s?\n",
      "2020-01-29 00:00:00\n",
      "Were 30 Marines Just Killed in a Helicopter Crash?\n",
      "2020-01-27 00:00:00\n",
      "Did the DOJ Change the Definition of Domestic Violence on Their Website Without Explanation?\n",
      "2019-01-24 00:00:00\n"
     ]
    }
   ],
   "source": [
    "def scraping(array_of_ids):\n",
    "    page = requests.get(url)\n",
    "    soup = BeautifulSoup(page.content, 'html.parser') # give a BeautifulSoup object, which represents the document \n",
    "                                                      # as a nested data structure\n",
    "\n",
    "    div=soup.find_all(class_=\"media-wrapper\") # class of required divs\n",
    "    for b in div: # selected div from part of the page containing the article link\n",
    "        a = b.find('a', href=True)  # all <a href> links \n",
    "\n",
    "        if a is not None:\n",
    "            article=requests.get(a['href'])\n",
    "            soup = BeautifulSoup(article.content, 'html.parser')\n",
    "            test=soup.find(class_=\"post-header\").find(\"h1\") # link testing\n",
    "            if test is not None: # if the link is good test is not None\n",
    "                news = {} # structure for scraped data\n",
    "                news['_id']=a['href']\n",
    "                \n",
    "                if news['_id'] in array_of_ids:\n",
    "                    continue      \n",
    "                array_of_ids.append(news['_id'])\n",
    "                \n",
    "                news['source']=url\n",
    "                news['title'] = soup.find(class_='post-header').find(\"h1\").get_text()\n",
    "\n",
    "                # date format of the article is: 1 NOVEMBER 2019\n",
    "                var=soup.find(class_=\"date-published\").get_text()\n",
    "                news['date']=datetime.strptime(var, '%d %B %Y')\n",
    "\n",
    "                #the text is cmposed of several smaller ones \n",
    "                array_text=soup.find(\"div\", \"content\").find_all(\"p\")\n",
    "                news['text']=''\n",
    "\n",
    "                for t in array_text:\n",
    "                    news['text']+=t.get_text()\n",
    "                RReadWriteCSV.write(news)\n"
   ]
  }
 ],
 "metadata": {
  "kernelspec": {
   "display_name": "Python 3",
   "language": "python",
   "name": "python3"
  },
  "language_info": {
   "codemirror_mode": {
    "name": "ipython",
    "version": 3
   },
   "file_extension": ".py",
   "mimetype": "text/x-python",
   "name": "python",
   "nbconvert_exporter": "python",
   "pygments_lexer": "ipython3",
   "version": "3.7.4"
  }
 },
 "nbformat": 4,
 "nbformat_minor": 2
}
