{
 "cells": [
  {
   "cell_type": "code",
   "execution_count": null,
   "metadata": {},
   "outputs": [],
   "source": [
    "database_file = \"reliable.csv\"\n",
    "\n",
    "from os.path import dirname, join\n",
    "import csv\n",
    "\n",
    "def read():\n",
    "    array_of_ids = []\n",
    "    \n",
    "    try:\n",
    "        with open(join(dirname(__file__),database_file), 'r', encoding=\"utf8\") as db:\n",
    "            reader = csv.reader(db)\n",
    "            for row in reader: \n",
    "                if row[3] == \"https://www.reuters.com\" \n",
    "                    array_of_ids.append(row[2])\n",
    "    except:\n",
    "        except Exception as e: print(e)\n",
    "    return(array_of_ids)"
   ]
  }
 ],
 "metadata": {
  "kernelspec": {
   "display_name": "Python 3",
   "language": "python",
   "name": "python3"
  },
  "language_info": {
   "codemirror_mode": {
    "name": "ipython",
    "version": 3
   },
   "file_extension": ".py",
   "mimetype": "text/x-python",
   "name": "python",
   "nbconvert_exporter": "python",
   "pygments_lexer": "ipython3",
   "version": "3.7.4"
  }
 },
 "nbformat": 4,
 "nbformat_minor": 2
}
