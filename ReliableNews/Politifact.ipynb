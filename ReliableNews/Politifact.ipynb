{
 "cells": [
  {
   "cell_type": "code",
   "execution_count": 1,
   "metadata": {},
   "outputs": [
    {
     "name": "stdout",
     "output_type": "stream",
     "text": [
      "0\n"
     ]
    }
   ],
   "source": [
    "import requests\n",
    "from bs4 import BeautifulSoup\n",
    "import RReadWriteCSV"
   ]
  },
  {
   "cell_type": "code",
   "execution_count": 2,
   "metadata": {},
   "outputs": [],
   "source": [
    "url=\"https://www.politifact.com\""
   ]
  },
  {
   "cell_type": "code",
   "execution_count": null,
   "metadata": {},
   "outputs": [],
   "source": [
    "\n",
    "count=0\n",
    "news={}\n",
    "previous=''\n",
    "previousTitle=''\n",
    "\n",
    "page = requests.get(url)\n",
    "soup = BeautifulSoup(page.content, 'html.parser')\n",
    "links=soup.find_all('a', href=True)\n",
    "\n",
    "for a in links:\n",
    "    if \"/2020/\" in a['href'] and len(a['href']) > 50 and previous != a['href']:\n",
    "        try:\n",
    "            article=requests.get(url + a['href'])\n",
    "            soup = BeautifulSoup(article.content, 'html.parser')\n",
    "            news['date']='' \n",
    "            news[\"source\"]=url + a['href']\n",
    "            news[\"title\"]=soup.find(class_=\"article__title\").get_text()\n",
    "            if previousTitle != news['title']:\n",
    "                previousTitle=news['title']\n",
    "                \n",
    "            news['_id']=previousTitle\n",
    "            if news['_id'] in array_of_ids:\n",
    "                continue # ako pravi problem prvo ovo proveri     \n",
    "            print(\"g\")\n",
    "            array_of_ids.append(news['_id'])\n",
    "\n",
    "            p_array=soup.find(class_=\"article__text\").find_all('p')\n",
    "            news[\"text\"]=''\n",
    "            for p in p_array:\n",
    "                print(p.get_text())\n",
    "                news[\"text\"]+=p.get_text()\n",
    "            count+=1\n",
    "           # RReadWriteCSV.write(news)\n",
    "        except:    \n",
    "            continue\n",
    "print(str(count) + 'scraped articles')"
   ]
  }
 ],
 "metadata": {
  "kernelspec": {
   "display_name": "Python 3",
   "language": "python",
   "name": "python3"
  },
  "language_info": {
   "codemirror_mode": {
    "name": "ipython",
    "version": 3
   },
   "file_extension": ".py",
   "mimetype": "text/x-python",
   "name": "python",
   "nbconvert_exporter": "python",
   "pygments_lexer": "ipython3",
   "version": "3.7.4"
  }
 },
 "nbformat": 4,
 "nbformat_minor": 2
}
