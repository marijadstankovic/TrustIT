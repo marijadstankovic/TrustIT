{
 "cells": [
  {
   "cell_type": "code",
   "execution_count": 3,
   "metadata": {},
   "outputs": [
    {
     "ename": "ImportError",
     "evalue": "cannot import name 'TwitterRestPager' from 'TwitterAPI' (C:\\Users\\Public\\Anaconda3\\lib\\site-packages\\TwitterAPI\\__init__.py)",
     "output_type": "error",
     "traceback": [
      "\u001b[1;31m---------------------------------------------------------------------------\u001b[0m",
      "\u001b[1;31mImportError\u001b[0m                               Traceback (most recent call last)",
      "\u001b[1;32m<ipython-input-3-7e41d8bae5be>\u001b[0m in \u001b[0;36m<module>\u001b[1;34m\u001b[0m\n\u001b[0;32m      1\u001b[0m \u001b[1;32mimport\u001b[0m \u001b[0margparse\u001b[0m\u001b[1;33m\u001b[0m\u001b[1;33m\u001b[0m\u001b[0m\n\u001b[1;32m----> 2\u001b[1;33m \u001b[1;32mfrom\u001b[0m \u001b[0mTwitterAPI\u001b[0m \u001b[1;32mimport\u001b[0m \u001b[0mTwitterAPI\u001b[0m\u001b[1;33m,\u001b[0m \u001b[0mTwitterOAuth\u001b[0m\u001b[1;33m,\u001b[0m \u001b[0mTwitterRestPager\u001b[0m\u001b[1;33m\u001b[0m\u001b[1;33m\u001b[0m\u001b[0m\n\u001b[0m\u001b[0;32m      3\u001b[0m \u001b[1;33m\u001b[0m\u001b[0m\n\u001b[0;32m      4\u001b[0m \u001b[1;33m\u001b[0m\u001b[0m\n\u001b[0;32m      5\u001b[0m \u001b[0mCOUNT\u001b[0m \u001b[1;33m=\u001b[0m \u001b[1;36m100\u001b[0m \u001b[1;31m# search download batch size\u001b[0m\u001b[1;33m\u001b[0m\u001b[1;33m\u001b[0m\u001b[0m\n",
      "\u001b[1;31mImportError\u001b[0m: cannot import name 'TwitterRestPager' from 'TwitterAPI' (C:\\Users\\Public\\Anaconda3\\lib\\site-packages\\TwitterAPI\\__init__.py)"
     ]
    }
   ],
   "source": [
    "import argparse\n",
    "from TwitterAPI import TwitterAPI, TwitterOAuth, TwitterRestPager\n",
    "\n",
    "\n",
    "COUNT = 100 # search download batch size\n",
    "api = TwitterAPI(\"uQzrQrZZFhsemKzkWPww61sPF\", \"mn89AIBAnCAeKAT8zyK6hpz0gRmeLG1WQB58P67Og44G9KqSYg\",\"3693728237-zcQEU55vMNVYzYeRWeFPup9bmg0Ybxt8gwCSCfF\", \"HiZCJ8ADyLYXniwAIx9DMyQKgihxnOK6lqsKlk2QQYput\")\n",
    "\n",
    "def count_old_tweets(api, word_list):\n",
    "\twords = ' OR '.join(word_list)\n",
    "\tcount = 0\n",
    "\twhile True:\n",
    "\t\tpager = TwitterRestPager(api, 'search/tweets', {'q':words, 'count':COUNT})\n",
    "\t\tfor item in pager.get_iterator():\n",
    "\t\t\tif 'text' in item:\n",
    "\t\t\t\tcount += 1\n",
    "\t\t\t\tprint(count)\n",
    "\t\t\telif 'message' in item:\n",
    "\t\t\t\tif item['code'] == 131:\n",
    "\t\t\t\t\tcontinue # ignore internal server error\n",
    "\t\t\t\telif item['code'] == 88:\n",
    "\t\t\t\t\tprint('Suspend search until %s' % search.get_quota()['reset'])\n",
    "\t\t\t\traise Exception('Message from twitter: %s' % item['message'])\n",
    "\n",
    "\n",
    "def count_new_tweets(api, word_list):\n",
    "\twords = ','.join(word_list)\n",
    "\tcount = 0\n",
    "\ttotal_skip = 0\n",
    "\twhile True:\n",
    "\t\tskip = 0\n",
    "\t\ttry:\n",
    "\t\t\tr = api.request('statuses/filter', {'track':words})\n",
    "\t\t\twhile True:\n",
    "\t\t\t\tfor item in r.get_iterator():\n",
    "\t\t\t\t\tif 'text' in item:\n",
    "\t\t\t\t\t\tcount += 1\n",
    "\t\t\t\t\t\tprint(count + skip + total_skip)\n",
    "\t\t\t\t\telif 'limit' in item:\n",
    "\t\t\t\t\t\tskip = item['limit'].get('track')\n",
    "\t\t\t\t\t\t#print('\\n\\n\\n*** Skipping %d tweets\\n\\n\\n' % (total_skip + skip))\n",
    "\t\t\t\t\telif 'disconnect' in item:\n",
    "\t\t\t\t\t\traise Exception('Disconnect: %s' % item['disconnect'].get('reason'))\n",
    "\t\texcept Exception as e:\n",
    "\t\t\tprint('*** MUST RECONNECT %s' % e)\n",
    "\t\ttotal_skip += skip\n",
    "\n",
    "\n",
    "if __name__ == '__main__':\n",
    "\tparser = argparse.ArgumentParser(description='Count occurance of word(s).')\n",
    "\tparser.add_argument('-past', action='store_true', help='search historic tweets')\n",
    "\tparser.add_argument('-oauth', metavar='FILENAME', type=str, help='read OAuth credentials from file')\n",
    "\tparser.add_argument('words', metavar='W', type=str, nargs='+', help='word(s) to count the occurance of')\n",
    "\targs = parser.parse_args()\t\n",
    "\n",
    "\toauth = TwitterOAuth.read_file(args.oauth)\n",
    "\tapi = TwitterAPI(oauth.consumer_key, oauth.consumer_secret, oauth.access_token_key, oauth.access_token_secret)\n",
    "\t\n",
    "\ttry:\n",
    "\t\tif args.past:\n",
    "\t\t\tcount_old_tweets(api, args.words)\n",
    "\t\telse:\n",
    "\t\t\tcount_new_tweets(api, args.words)\n",
    "\texcept KeyboardInterrupt:\n",
    "\t\tprint('\\nTerminated by user\\n')\n",
    "\texcept Exception as e:\n",
    "\t\tprint('*** STOPPED %s\\n' % e)"
   ]
  },
  {
   "cell_type": "code",
   "execution_count": null,
   "metadata": {},
   "outputs": [],
   "source": []
  }
 ],
 "metadata": {
  "kernelspec": {
   "display_name": "Python 3",
   "language": "python",
   "name": "python3"
  },
  "language_info": {
   "codemirror_mode": {
    "name": "ipython",
    "version": 3
   },
   "file_extension": ".py",
   "mimetype": "text/x-python",
   "name": "python",
   "nbconvert_exporter": "python",
   "pygments_lexer": "ipython3",
   "version": "3.7.4"
  }
 },
 "nbformat": 4,
 "nbformat_minor": 2
}
