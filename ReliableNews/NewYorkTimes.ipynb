{
 "cells": [
  {
   "cell_type": "markdown",
   "metadata": {},
   "source": [
    "# The script for scraping news from  nytimes.com"
   ]
  },
  {
   "cell_type": "markdown",
   "metadata": {},
   "source": [
    "The script for srcaping one news. The result is printed, not saved in database"
   ]
  },
  {
   "cell_type": "code",
   "execution_count": 1,
   "metadata": {},
   "outputs": [
    {
     "name": "stdout",
     "output_type": "stream",
     "text": [
      "{'title': 'Professors, Beware. In China, Student Spies Might Be Watching.', 'date': '2019-11-01T03:00:06-04:00', 'source': 'https://www.nytimes.com', '_id': '/2019/11/01/world/asia/china-student-informers.html?action=click&module=Top%20Stories&pgtype=Homepage', 'text': 'CHENGDU, China — With a neon-red backpack and white Adidas shoes, he looks like any other undergraduate on the campus of Sichuan University in southwestern China.But Peng Wei, a 21-year-old chemistry major, has a special mission: He is both student and spy.Mr. Peng is one of a growing number of “student information officers” who keep tabs on their professors’ ideological views. They are there to help root out teachers who show any sign of disloyalty to President Xi Jinping and the ruling Communist Party.“It’s our duty to make sure that the learning environment is pure,” Mr. Peng said, “and that professors are following the rules.”In a throwback to the Mao Zedong era, Chinese universities are deploying students as watchdogs against their teachers, part of a sweeping campaign by Mr. Xi to eliminate dissent and turn universities into party strongholds.The use of student informers has surged under Mr. Xi, China’s most powerful leader in decades, with hundreds of universities now employing the practice, according to interviews with more than two dozen professors and students, as well as a review of public records.“Everyone feels they are in danger,” said You Shengdong, a longtime economics professor at Xiamen University in eastern China who was fired last year after students reported him for criticizing one of Mr. Xi’s favorite propaganda slogans.“How do we make progress,” Mr. You asked, “how can we produce inventions in this environment?”Universities are posting advertisements recruiting students to spy on their teachers, with some aiming to have one in every classroom. It has created a chilling effect that some have compared to the ideological purification campaigns of the decade-long Cultural Revolution, in which radical students attacked Mao’s perceived enemies.At a time when Mr. Xi is seeking to ward off supposed threats to social stability and to silence pockets of opposition to his authoritarian policies, students are increasingly playing a key role by monitoring how teachers view Mr. Xi, the party and ideas like democracy. In exchange, they are promised rewards like scholarships, higher grades and advancement within prestigious Communist Party groups.Professors and students described at least a dozen instances since early last year in which professors at Chinese universities have been fired or punished after students filed reports against them.A university in central China fired a professor after a student reported her for criticizing the elimination of presidential term limits by Mr. Xi, a move that allows him to remain in office indefinitely. In Beijing, a university suspended a math professor after a student complained that she had suggested Japanese students worked harder than their Chinese counterparts.The proliferation of student informers has raised concerns among scholars and students, who see the practice as another attempt to stifle classroom debate. All universities in the country are controlled by the party, which appoints the institutions’ top administrative officials and runs party committees on campuses.“Teachers can be reported for anything,” said Tang Yun, a veteran literature professor at Chongqing Normal University in southwestern China.Professor Tang, 56, was speaking from experience. While teaching a class earlier this year, he criticized a popular, folksy phrase Mr. Xi uses often — “roll up your sleeves and work hard” — as coarse. A student complained, prompting officials at Chongqing Normal to strip him of his teaching credentials and reassign him to the library this spring.Mr. Xi, who has sought a historical standing on a par with Mao, has borrowed from his playbook to restore the party’s place at the center of everyday life in China, including higher education.Education officials have fired dissident professors, banned some Western textbooks and ordered schools to start research centers devoted to Mr. Xi’s signature ideology, known as “Xi Jinping Thought.”China has long relied on students to serve as checks against their teachers. During the Cultural Revolution in the late 1960s and 1970s, academics and people with ties to the West or who were deemed “class enemies” were persecuted. Young people were called upon to spy on and denounce teachers and other intellectuals suspected of dissent.Under Mr. Xi, many universities now appoint one student monitor per class, according to public notices posted by universities. Students must apply to serve as informers, and many schools accept only party members or those who can demonstrate they hold “correct” political views.Some students take an expansive view of their mandate, keeping an eye not only on what professors say in class, but on their private lives, including tastes in books and movies, informers said in interviews.Mr. Peng, the student informer at Sichuan University, said he also speaks regularly with other students to gather impressions of teachers, including about their character, values and patriotism.He rejected the idea that the rise of informers is hurting classroom debate and said that for too long, Chinese universities have ignored the views of students. “Teachers need to listen to the concerns of students,” he said.At some schools, student informers are required to submit reports about their teachers to campus branches of the Communist Party, according to advertisements for the positions.Ankang University in northwest China said in an online notice that student informers should formally report professors who spread superstition, cults and pornography, “promote Western political values,” and criticize the party’s tenets. School administrators, the notice says, should respond to each complaint within three working days.At Xiantao Vocational College in central China, informers are expected to monitor for “behavior or speech that violates the party’s line.” Xinyang Normal University in central China calls on student informers to report anything teachers say that “endangers national security” or “national unity.”The Ministry of Education did not respond to a request for comment. It issued new ethics rules for teachers of all levels last year, saying they should not do anything to contradict the authority of the party. Under Mr. Xi, the party has also dispatched teams of officials to universities with the aim of monitoring the ideological views of teachers.Professors say the use of student informers is creating a climate of fear in classrooms.Mr. You, the economics professor who was fired from Xiamen University, said students had reported him for questioning Mr. Xi’s trademark slogan, the “Chinese dream,” a vision of prosperity and strength for the nation. Mr. You said he told his students that dreams are “delusions and fantasies — not ideals.”Mr. You, 71, who has since relocated to New York, said his students began referring to him as extreme and “anti-Communist.” His classroom was equipped with a video camera, which is standard at many Chinese universities, and the authorities warned that they could easily turn up evidence of inappropriate remarks.Carl Minzner, a professor of law at Fordham University in New York, said the rise of student informers was part of Mr. Xi’s efforts to make the party “a leading force in state and society alike.”“Xi’s goal is to reintroduce that element of self-censorship so that people start to think twice about speaking,” he said. “When political orthodoxy takes over, that’s how the collective mind of society begins to close down.”The culture of political denunciation has permeated the campuses of even China’s most prestigious universities. At Tsinghua University in Beijing, Mr. Xi’s alma mater, Lü Jia, a professor of Marxism, was investigated by the school’s administrators this year after students led an online campaign accusing him of speaking critically of China and socialism.The students said they were inspired by a call by Mr. Xi in March to strengthen ideological training and to prepare for a “national rejuvenation.” They started an anonymous social media account where they published line-by-line criticisms of Professor Lü’s lectures and criticized him for saying that Western civilization was still predominant in the world while China’s civilization was in decline.Professor Lü could not be reached and Tsinghua’s School of Marxism did not respond to requests for comment on the status of the investigation.At Chongqing Normal University, Mr. Tang, the literature professor, called the decision to bar him from teaching “pure ignorance of power.”The school had accused Mr. Tang of harming China’s reputation and forced him to apologize.After the school stripped him of his teaching credentials, he wrote a social media post saying he did not blame his students and that “not all of them are Judas.”“I leave today, clothed in shame,” Mr. Tang wrote. “But tomorrow I will certainly return garlanded with laurels.”'}\n"
     ]
    }
   ],
   "source": [
    "import requests\n",
    "from bs4 import BeautifulSoup\n",
    "import RReadWriteCSV\n",
    "\n",
    "page = requests.get(\"https://www.nytimes.com/2019/11/01/world/asia/china-student-informers.html?action=click&module=Top%20Stories&pgtype=Homepage\")\n",
    "sopa = BeautifulSoup(page.content, 'html.parser')\n",
    "\n",
    "news={}\n",
    "news['title'] = sopa.find(\"h1\").get_text()\n",
    "news['date'] = sopa.find(\"time\")['datetime']\n",
    "news['source'] = \"https://www.nytimes.com\"\n",
    "news['_id'] = \"/2019/11/01/world/asia/china-student-informers.html?action=click&module=Top%20Stories&pgtype=Homepage\"\n",
    "news['text'] = ''\n",
    "\n",
    "var = sopa.find_all(\"p\", class_=\"css-exrw3m evys1bk0\")\n",
    "for p in var:\n",
    "    news['text'] = news['text'] + p.get_text()\n",
    "    \n",
    "print(news)"
   ]
  },
  {
   "cell_type": "markdown",
   "metadata": {},
   "source": [
    "The links for the news are taken from \"https://www.nytimes.com/section/world\" <br>\n",
    "<br>\n",
    "Some links are interactive so they don't have any information. These links are being discarted.<br>\n",
    "Also if the news is already in database it is not going to be written again."
   ]
  },
  {
   "cell_type": "code",
   "execution_count": 3,
   "metadata": {},
   "outputs": [
    {
     "name": "stdout",
     "output_type": "stream",
     "text": [
      "Neanderthal Genes Hint at Much Earlier Human Migration From Africa\n",
      "2020-01-31T16:06:28-05:00\n",
      "From Armed Struggle to Peaceful Protest, a Road Still to Travel\n",
      "2020-01-31T15:48:37-05:00\n",
      "U.S. Strikes at Leader of Qaeda in Yemen\n",
      "2020-01-31T14:34:46-05:00\n",
      "U.S. Imposes Coronavirus Quarantine on Group in California Evacuated From Wuhan\n",
      "2020-01-31T13:17:47-05:00\n",
      "Kenya’s High Court Delays National Biometric ID Program\n",
      "2020-01-31T13:02:42-05:00\n",
      "SARS Was Deadly in Canada. Is the Country Ready for Coronavirus?\n",
      "2020-01-31T12:59:48-05:00\n",
      "Belgium Acquits Three Doctors in Landmark Euthanasia Case\n",
      "2020-01-31T12:57:18-05:00\n",
      "The Main Theme of ‘1917’? The Innocence That War Destroys\n",
      "2020-01-31T09:29:03-05:00\n",
      "The Best Movies and TV Shows New on Netflix Canada in February\n",
      "2020-01-31T08:06:59-05:00\n",
      "President Trump, Coronavirus, Brexit: Your Friday Briefing\n",
      "2020-01-31T05:30:41-05:00\n",
      "Taliban’s Continued Attacks Show Limits of U.S. Strategy in Afghanistan\n",
      "2020-01-31T05:00:25-05:00\n",
      "An Outbreak of Racist Sentiment as Coronavirus Reaches Australia \n",
      "2020-01-31T01:18:06-05:00\n",
      "Your Friday Briefing\n",
      "2020-01-31T00:33:17-05:00\n",
      "Britain’s Brexit Shrug: Let’s Just Get On With It\n",
      "2020-01-31T00:14:08-05:00\n",
      "State Department Warns Against Traveling to China Amid Coronavirus Outbreak\n",
      "2020-01-30T21:40:49-05:00\n",
      "Architect of C.I.A. Torture Program Testifies Prisoners Acted Well Adjusted\n",
      "2020-01-30T21:13:32-05:00\n",
      "More American Troops Sustain Brain Injuries From Iran Missile Strike in Iraq\n",
      "2020-01-30T19:07:27-05:00\n",
      "Offering Iran Penalties and Aid, U.S. Ramps Up Sanctions While Providing Medicine\n",
      "2020-01-30T17:50:34-05:00\n"
     ]
    }
   ],
   "source": [
    "import requests\n",
    "from bs4 import BeautifulSoup\n",
    "import RReadWriteCSV\n",
    "\n",
    "def scraping(array_of_ids):\n",
    "    count=0\n",
    "    pagina = requests.get(\"https://www.nytimes.com/section/world\")\n",
    "    soup = BeautifulSoup(pagina.content, 'html.parser')\n",
    "    list = soup.find(id=\"stream-panel\")\n",
    "    links = list.find_all(\"li\")\n",
    "\n",
    "    for link in links:\n",
    "        try:\n",
    "            href = link.find('a')['href']\n",
    "            if href[0:12] == \"/interactive\":\n",
    "                continue\n",
    "\n",
    "            source = \"https://www.nytimes.com\" + href\n",
    "            page = requests.get(source)\n",
    "            soup = BeautifulSoup(page.content, 'html.parser')\n",
    "\n",
    "            news={}\n",
    "            news['_id'] = href\n",
    "\n",
    "            if news['_id'] in array_of_ids:\n",
    "                continue # ako pravi problem prvo ovo proveri     \n",
    "            array_of_ids.append(news['_id'])\n",
    "\n",
    "            news['title'] = soup.find(\"h1\").get_text()\n",
    "            news['date'] = soup.find(\"time\")['datetime']\n",
    "            news['source'] = \"https://www.nytimes.com\"\n",
    "            news['text'] = ''\n",
    "\n",
    "            var = soup.find_all(\"p\", class_=\"css-exrw3m evys1bk0\")\n",
    "            for p in var:\n",
    "                news['text'] = news['text'] + p.get_text()    \n",
    "            count+=1\n",
    "            RReadWriteCSV.write(news)\n",
    "        except:\n",
    "            continue\n",
    "    print(count)"
   ]
  },
  {
   "cell_type": "code",
   "execution_count": null,
   "metadata": {},
   "outputs": [],
   "source": []
  }
 ],
 "metadata": {
  "kernelspec": {
   "display_name": "Python 3",
   "language": "python",
   "name": "python3"
  },
  "language_info": {
   "codemirror_mode": {
    "name": "ipython",
    "version": 3
   },
   "file_extension": ".py",
   "mimetype": "text/x-python",
   "name": "python",
   "nbconvert_exporter": "python",
   "pygments_lexer": "ipython3",
   "version": "3.7.4"
  }
 },
 "nbformat": 4,
 "nbformat_minor": 2
}
