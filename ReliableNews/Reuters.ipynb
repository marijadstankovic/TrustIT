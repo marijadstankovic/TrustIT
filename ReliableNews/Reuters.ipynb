{
 "cells": [
  {
   "cell_type": "markdown",
   "metadata": {},
   "source": [
    "# Scrape news articles from www.reuters.com\n",
    "\n",
    "\n",
    "   This script uses Python library, BeautifulSoup, for scraping.\n",
    "The infromation requested is: title, published date and text.\n",
    "All data are stored in CSV file which is used like database. Additional data which are stored in the database are: id for each article and source of article."
   ]
  },
  {
   "cell_type": "code",
   "execution_count": 1,
   "metadata": {},
   "outputs": [],
   "source": [
    "import requests # library which will fetch the url content\n",
    "from bs4 import BeautifulSoup \n",
    "from datetime import datetime\n",
    "import RReadWriteCSV"
   ]
  },
  {
   "cell_type": "code",
   "execution_count": 2,
   "metadata": {},
   "outputs": [],
   "source": [
    "url = 'https://www.reuters.com' # url to scrape from"
   ]
  },
  {
   "cell_type": "markdown",
   "metadata": {},
   "source": [
    "**get_div_data function**- fuction performs the main functionality. <br>\n",
    "&emsp; **x**- the selected part of the page from which links are used <br>\n",
    "&emsp; **counter**- only first 5 links are important for the first part of the page (part_page1) <br>\n",
    "_part of the page (part_page1, part_page2)_ - includes array of divs with the same class - these divs hold a link to news that is going to be scraped"
   ]
  },
  {
   "cell_type": "code",
   "execution_count": 4,
   "metadata": {},
   "outputs": [],
   "source": [
    "def scraping(array_of_ids):\n",
    "    counter=0 \n",
    "    page = requests.get(url) # to get a webpage\n",
    "    soup = BeautifulSoup(page.content, 'html.parser') # give a BeautifulSoup object, which represents the document                                                 # as a nested data structur\n",
    "    part_page1=soup.find_all(class_=\"story\") # class of required divs\n",
    "    part_page2=soup.find_all(class_=\"story-photo\")\n",
    "    def get_div_data(x, counter):\n",
    "        for b in x:  # selected div from part of the page containing the article link\n",
    "            a = b.find('a', href=True)  # all <a href> links  \n",
    "            if a is not None:\n",
    "                article=requests.get(url+a['href']) \n",
    "                soup = BeautifulSoup(article.content, 'html.parser')\n",
    "                test=soup.find(class_=\"ArticleHeader_headline\") # link testing\n",
    "                if test is not None: # if the link is good test is not None\n",
    "                    news = {} # structure for scraped data\n",
    "                    news['_id']=a['href'] \n",
    "                    \n",
    "                    #checking does id exist in database\n",
    "                    if news['_id'] in array_of_ids:\n",
    "                        continue  \n",
    "                    array_of_ids.append(news['_id'])\n",
    "                    \n",
    "                    news['source']=url\n",
    "                    news['title'] = soup.find(class_=\"ArticleHeader_headline\").get_text()\n",
    "\n",
    "                    # date format of the article is: NOVEMBER 2, 2019 / 12:25 AM / UPDATED 19 HOURS AGO\n",
    "                    pom = soup.find(class_=\"ArticleHeader_date\").get_text().split(\"/\")\n",
    "                    news['date']=datetime.strptime(pom[0], '%B %d, %Y ')\n",
    "\n",
    "                    #the text is composed of several smaller ones \n",
    "                    array_text=soup.find_all(class_=\"StandardArticleBody_body\")\n",
    "                    text='' \n",
    "\n",
    "                    for t in array_text:\n",
    "                        text+=t.get_text()\n",
    "\n",
    "                    news['text']= text\n",
    "\n",
    "                    counter+=1\n",
    "                    if(counter == 5):\n",
    "                        break\n",
    "                    RReadWriteCSV.write(news)\n",
    "    get_div_data(part_page1, counter)\n",
    "    counter=5\n",
    "    get_div_data(part_page2, counter)"
   ]
  }
 ],
 "metadata": {
  "kernelspec": {
   "display_name": "Python 3",
   "language": "python",
   "name": "python3"
  },
  "language_info": {
   "codemirror_mode": {
    "name": "ipython",
    "version": 3
   },
   "file_extension": ".py",
   "mimetype": "text/x-python",
   "name": "python",
   "nbconvert_exporter": "python",
   "pygments_lexer": "ipython3",
   "version": "3.7.4"
  }
 },
 "nbformat": 4,
 "nbformat_minor": 2
}
