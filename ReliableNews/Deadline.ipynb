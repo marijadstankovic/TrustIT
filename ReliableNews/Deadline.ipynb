{
 "cells": [
  {
   "cell_type": "code",
   "execution_count": 1,
   "metadata": {},
   "outputs": [
    {
     "name": "stdout",
     "output_type": "stream",
     "text": [
      "0\n"
     ]
    }
   ],
   "source": [
    "import requests\n",
    "from bs4 import BeautifulSoup\n",
    "import RReadWriteCSV"
   ]
  },
  {
   "cell_type": "code",
   "execution_count": 2,
   "metadata": {},
   "outputs": [],
   "source": [
    "url=\"https://deadline.com/\"\n",
    "\n",
    "previous=''\n",
    "previousTitle=''"
   ]
  },
  {
   "cell_type": "code",
   "execution_count": 3,
   "metadata": {},
   "outputs": [
    {
     "name": "stdout",
     "output_type": "stream",
     "text": [
      "https://deadline.com/2020/01/hulu-ceo-randy-freer-exits-streamer-is-integrated-into-disneys-direct-to-consumer-international-1202848283/\n",
      "https://deadline.com/2020/01/gretel-hansel-finds-475k-the-rhythm-section-offbeat-with-235k-thursday-night-previews-1202847821/\n",
      "https://deadline.com/2020/01/spike-lee-david-byrne-american-utopia-movie-1202848543/\n",
      "https://deadline.com/2020/01/quentin-tarantino-kodak-sam-mendes-brad-pitt-antonio-banderas-oscars-1202847641/\n",
      "https://deadline.com/2020/01/pilot-season-2020-actors-hot-list-keri-russell-lisa-kudrow-catherine-ohara-kristen-bell-sarah-gadon-salaries-1202844384/\n",
      "https://deadline.com/2020/02/the-bachelor-live-roadshow-65-cities-1202848702/\n",
      "https://deadline.com/2020/02/the-bachelor-live-roadshow-65-cities-1202848702/#comments\n",
      "https://deadline.com/2020/02/the-bachelor-live-roadshow-65-cities-1202848702/\n",
      "https://deadline.com/2020/02/west-side-story-amar-ramasar-protest-alexandra-waterbury-broadway-scott-rudin-1202848660/\n",
      "https://deadline.com/2020/02/west-side-story-amar-ramasar-protest-alexandra-waterbury-broadway-scott-rudin-1202848660/#comments\n",
      "https://deadline.com/2020/02/west-side-story-amar-ramasar-protest-alexandra-waterbury-broadway-scott-rudin-1202848660/\n",
      "https://deadline.com/2020/01/midseason-premiere-dates-winter-2020-new-returning-series-broadcast-cable-streaming-1202667241/\n",
      "https://deadline.com/2020/02/president-donald-trump-tweetstorm-the-saturday-edition-58-1202848686/\n",
      "https://deadline.com/2020/02/president-donald-trump-tweetstorm-the-saturday-edition-58-1202848686/#comments\n",
      "https://deadline.com/2020/02/president-donald-trump-tweetstorm-the-saturday-edition-58-1202848686/\n",
      "https://deadline.com/2020/02/michael-moore-michael-bloomberg-debate-bernie-sanders-1202848666/\n",
      "https://deadline.com/2020/02/michael-moore-michael-bloomberg-debate-bernie-sanders-1202848666/#comments\n",
      "https://deadline.com/2020/02/michael-moore-michael-bloomberg-debate-bernie-sanders-1202848666/\n",
      "https://deadline.com/2020/01/gretel-hansel-finds-475k-the-rhythm-section-offbeat-with-235k-thursday-night-previews-1202847821/\n",
      "https://deadline.com/2020/01/bill-maher-mourns-democracy-i-feel-like-im-standing-over-a-casket-says-trump-lies-like-a-racoon-eats-trash-1202848551/\n",
      "https://deadline.com/2020/01/harvey-weinstein-defense-jabs-key-accuser-jessica-mann-you-decided-anything-goes-1202848294/\n",
      "https://deadline.com/2020/01/terry-crews-apologizes-gabrielle-union-americas-got-talent-comments-1202848395/\n",
      "https://deadline.com/2020/01/boris-johnson-consultation-decriminalize-bbc-licence-fee-evasion-1202847660/\n",
      "https://deadline.com/2020/01/spike-lee-david-byrne-american-utopia-movie-1202848543/\n",
      "https://deadline.com/2020/01/joyce-sevilla-dies-nightlife-and-entertainment-publicist-for-major-brands-was-47-1202847584/\n",
      "https://deadline.com/2020/01/how-top-gear-avoids-overlap-with-the-grand-tour-1202846659/\n",
      "https://deadline.com/2020/01/seal-team-rachel-boston-tim-chiou-to-recur-on-cbs-drama-series-1202848028/\n",
      "https://deadline.com/2020/01/the-late-show-with-stephen-colbert-asks-witnesses-please-1202847566/\n",
      "https://deadline.com/2020/01/gretel-hansel-finds-475k-the-rhythm-section-offbeat-with-235k-thursday-night-previews-1202847821/\n",
      "https://deadline.com/2020/01/gretel-hansel-finds-475k-the-rhythm-section-offbeat-with-235k-thursday-night-previews-1202847821/#comments\n",
      "https://deadline.com/2020/01/gretel-hansel-finds-475k-the-rhythm-section-offbeat-with-235k-thursday-night-previews-1202847821/\n",
      "https://deadline.com/2020/01/bill-maher-mourns-democracy-i-feel-like-im-standing-over-a-casket-says-trump-lies-like-a-racoon-eats-trash-1202848551/\n",
      "https://deadline.com/2020/01/bill-maher-mourns-democracy-i-feel-like-im-standing-over-a-casket-says-trump-lies-like-a-racoon-eats-trash-1202848551/#comments\n",
      "https://deadline.com/2020/01/bill-maher-mourns-democracy-i-feel-like-im-standing-over-a-casket-says-trump-lies-like-a-racoon-eats-trash-1202848551/\n",
      "https://deadline.com/2020/01/mary-higgins-clark-best-selling-suspense-author-obituary-1202848617/\n",
      "https://deadline.com/2020/01/mary-higgins-clark-best-selling-suspense-author-obituary-1202848617/#comments\n",
      "https://deadline.com/2020/01/mary-higgins-clark-best-selling-suspense-author-obituary-1202848617/\n",
      "https://deadline.com/2020/01/kobe-bryant-tributes-spotlighted-as-lakers-play-first-game-since-his-tragic-death-1202848315/\n",
      "https://deadline.com/2020/01/kobe-bryant-tributes-spotlighted-as-lakers-play-first-game-since-his-tragic-death-1202848315/#comments\n",
      "https://deadline.com/2020/01/kobe-bryant-tributes-spotlighted-as-lakers-play-first-game-since-his-tragic-death-1202848315/\n",
      "https://deadline.com/2020/01/the-cave-amani-ballour-secures-visa-oscars-1202848590/\n",
      "https://deadline.com/2020/01/the-cave-amani-ballour-secures-visa-oscars-1202848590/#comments\n",
      "https://deadline.com/2020/01/the-cave-amani-ballour-secures-visa-oscars-1202848590/\n",
      "https://deadline.com/2020/01/spike-lee-david-byrne-american-utopia-movie-1202848543/\n",
      "https://deadline.com/2020/01/spike-lee-david-byrne-american-utopia-movie-1202848543/#comments\n",
      "https://deadline.com/2020/01/spike-lee-david-byrne-american-utopia-movie-1202848543/\n",
      "https://deadline.com/2020/01/costume-designers-guild-awards-2020-winners-list-cdga-1202844629/\n",
      "https://deadline.com/2020/01/2020-directors-guild-awards-winners-list-dga-1202841466/\n",
      "https://deadline.com/2020/01/hollywood-jumper-oscar-venue-hollywood-boulevard-closed-1202848546/\n",
      "https://deadline.com/2020/01/hollywood-jumper-oscar-venue-hollywood-boulevard-closed-1202848546/#comments\n",
      "https://deadline.com/2020/01/hollywood-jumper-oscar-venue-hollywood-boulevard-closed-1202848546/\n",
      "https://deadline.com/2020/01/veteran-ohio-weatherman-charged-with-pandering-child-pornography-1202729146/\n",
      "https://deadline.com/2020/01/veteran-ohio-weatherman-charged-with-pandering-child-pornography-1202729146/#comments\n",
      "https://deadline.com/2020/01/veteran-ohio-weatherman-charged-with-pandering-child-pornography-1202729146/\n",
      "https://deadline.com/2020/01/kung-fu-the-republic-of-sarah-pilot-orders-the-cw-greg-berlanti-marc-webb-1202847367/#comments\n",
      "https://deadline.com/2020/01/the-cave-amani-ballour-secures-visa-oscars-1202848590/\n",
      "https://deadline.com/2020/01/spike-lee-david-byrne-american-utopia-movie-1202848543/\n",
      "https://deadline.com/2020/01/film-constellation-endeavor-content-sales-rights-farewell-amor-sundance-1202848400/\n",
      "https://deadline.com/2020/02/the-bachelor-live-roadshow-65-cities-1202848702/\n",
      "https://deadline.com/2020/02/president-donald-trump-tweetstorm-the-saturday-edition-58-1202848686/\n",
      "https://deadline.com/2020/02/michael-moore-michael-bloomberg-debate-bernie-sanders-1202848666/\n",
      "https://deadline.com/2020/01/gretel-hansel-finds-475k-the-rhythm-section-offbeat-with-235k-thursday-night-previews-1202847821/\n",
      "https://deadline.com/2020/01/china-coronavirus-high-profile-film-productions-shut-down-quarantines-1202845124/\n",
      "https://deadline.com/2020/01/broadway-box-office-david-byrne-american-utopia-hamilton-west-side-story-1202842914/\n",
      "https://deadline.com/2020/02/the-bachelor-live-roadshow-65-cities-1202848702/\n",
      "https://deadline.com/2020/02/west-side-story-amar-ramasar-protest-alexandra-waterbury-broadway-scott-rudin-1202848660/\n",
      "https://deadline.com/2020/01/mary-higgins-clark-best-selling-suspense-author-obituary-1202848617/\n",
      "https://deadline.com/2020/01/spike-lee-david-byrne-american-utopia-movie-1202848543/\n",
      "https://deadline.com/2020/01/verve-signs-david-slack-tv-writer-producer-wga-board-member-1202848447/\n",
      "https://deadline.com/2020/01/quentin-tarantino-kodak-sam-mendes-brad-pitt-antonio-banderas-oscars-1202847641/\n",
      "https://deadline.com/2020/01/is-oscar-worth-it-risks-rewards-awards-season-peter-bart-1202840429/\n",
      "47scraped articles\n"
     ]
    }
   ],
   "source": [
    "#def scraping(array_of_ids):\n",
    "count=0\n",
    "page = requests.get(url)\n",
    "soup = BeautifulSoup(page.content, 'html.parser')\n",
    "links=soup.find_all('a', href=True)\n",
    "for a in links:\n",
    "    if \"https://deadline.com/2020\" in a['href'] and previous != a['href']:\n",
    "        previous=a['href']\n",
    "        try:\n",
    "            article=requests.get(a['href'])\n",
    "            soup = BeautifulSoup(article.content, 'html.parser')\n",
    "            news={}\n",
    "            news[\"_id\"]=previous\n",
    "\n",
    "#             if news[\"_id\"] in array_of_ids:\n",
    "#                 continue # ako pravi problem prvo ovo proveri     \n",
    "#             array_of_ids.append(news[\"_id\"])\n",
    "\n",
    "            news[\"source\"]=url\n",
    "            print(a['href'])\n",
    "            news[\"title\"]=soup.find(class_=\"a-article-grid__header\").find(\"h1\").get_text()\n",
    "            if previousTitle != news['title']:\n",
    "                previousTitle=news['title']\n",
    "                news[\"date\"]=soup.find(class_=\"pmc-u-color-grey-medium-dark pmc-u-font-family-helvetica pmc-u-font-size-14\").get_text()\n",
    "                p_array=soup.find(class_=\"a-content pmc-u-line-height-copy pmc-u-font-family-georgia pmc-u-font-size-16 pmc-u-font-size-18@desktop\").find_all('p')\n",
    "                news[\"text\"]=''\n",
    "                for p in p_array:\n",
    "                    news[\"text\"]+=p.get_text()\n",
    "                count+=1\n",
    "                    #RReadWriteCSV.write(news)\n",
    "        except:\n",
    "            continue\n",
    "print(str(count) + 'scraped articles')"
   ]
  }
 ],
 "metadata": {
  "kernelspec": {
   "display_name": "Python 3",
   "language": "python",
   "name": "python3"
  },
  "language_info": {
   "codemirror_mode": {
    "name": "ipython",
    "version": 3
   },
   "file_extension": ".py",
   "mimetype": "text/x-python",
   "name": "python",
   "nbconvert_exporter": "python",
   "pygments_lexer": "ipython3",
   "version": "3.7.4"
  }
 },
 "nbformat": 4,
 "nbformat_minor": 2
}
