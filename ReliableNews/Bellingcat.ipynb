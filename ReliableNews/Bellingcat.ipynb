{
 "cells": [
  {
   "cell_type": "markdown",
   "metadata": {},
   "source": [
    "# Scrape news articles from https://www.bellingcat.com/\n",
    "This script uses Python library, BeautifulSoup, for scraping. The infromation requested is: title, published date and text. All data are stored in Mongodb. Additional data which are stored in the database are: id for each article and source of article.\n",
    "Pymongo is the official MongoDB API that allows to easily perform mongodb operations with Python."
   ]
  },
  {
   "cell_type": "code",
   "execution_count": 1,
   "metadata": {},
   "outputs": [],
   "source": [
    "import requests\n",
    "from bs4 import BeautifulSoup\n",
    "from datetime import datetime, timedelta\n",
    "import RReadWriteCSV"
   ]
  },
  {
   "cell_type": "code",
   "execution_count": 2,
   "metadata": {},
   "outputs": [],
   "source": [
    "url = 'https://www.bellingcat.com/category/news/' # url to scrape from\n",
    "hrefs=['africa/','americas','mena','rest-of-world','uk-and-europe']\n",
    "page = requests.get(url)\n",
    "soup = BeautifulSoup(page.content, 'html.parser') # give a BeautifulSoup object, which represents the document \n",
    "                                                  # as a nested data structure\n",
    "count=0 #count scraped pages"
   ]
  },
  {
   "cell_type": "code",
   "execution_count": null,
   "metadata": {},
   "outputs": [
    {
     "name": "stdout",
     "output_type": "stream",
     "text": [
      "2020-01-23 00:00:00\n",
      "2019-12-05 00:00:00\n",
      "2018-11-14 00:00:00\n",
      "2017-08-14 00:00:00\n",
      "2017-08-04 00:00:00\n",
      "2017-06-26 00:00:00\n",
      "2017-03-21 00:00:00\n",
      "2017-02-20 00:00:00\n",
      "2016-11-06 00:00:00\n",
      "2016-05-29 00:00:00\n",
      "2020-01-21 00:00:00\n",
      "2020-01-19 00:00:00\n",
      "2019-12-19 00:00:00\n",
      "2019-12-03 00:00:00\n",
      "2019-11-13 00:00:00\n",
      "2019-11-11 00:00:00\n",
      "2019-11-07 00:00:00\n"
     ]
    }
   ],
   "source": [
    "def scraping(array_of_ids):\n",
    "    for adds in hrefs:\n",
    "        page = requests.get(url+adds) # to get a webpage\n",
    "        soup = BeautifulSoup(page.content, 'html.parser')  # give a BeautifulSoup object, which represents the document \n",
    "                                                           # as a nested data structure\n",
    "\n",
    "        div=soup.find_all(\"h2\") # class of required divs\n",
    "        for b in div: # selected div from part of the page containing the article link\n",
    "            a = b.find('a', href=True)  # all <a href> links \n",
    "            if a is not None:\n",
    "                article=requests.get(a['href'])\n",
    "                soup = BeautifulSoup(article.content, 'html.parser')\n",
    "                #test=soup.find(class_=\"CardHeadline\").find(\"h2\") # link testing\n",
    "\n",
    "                news = {} # structure for scraped data\n",
    "                news['_id']=a['href']\n",
    "                \n",
    "                if news['_id'] in array_of_ids:\n",
    "                    continue # ako pravi problem prvo ovo proveri     \n",
    "                array_of_ids.append(news['_id'])\n",
    "                try:\n",
    "                    news['source']=a['href']\n",
    "                    news['title'] = b.get_text()\n",
    "\n",
    "                    pom = soup.find(\"p\", {\"class\":[\"meta\",\"time\"]}).get_text()\n",
    "                    news['date']=datetime.strptime(pom, '\\n\\t\\t\\t\\t\\t%B %d, %Y\\t\\t\\t\\t')\n",
    "                    print(news['date'])\n",
    "\n",
    "                    #the text is composed of several smaller ones \n",
    "                    array_text=soup.find(\"section\", itemprop=\"articleBody\").find_all(\"p\")\n",
    "                    text=''\n",
    "\n",
    "                    for t in array_text:\n",
    "                        text+=t.get_text()\n",
    "\n",
    "                    news['text']= text\n",
    "                    RReadWriteCSV.write(news)\n",
    "                except:\n",
    "                    continue\n",
    "\n"
   ]
  },
  {
   "cell_type": "code",
   "execution_count": null,
   "metadata": {},
   "outputs": [],
   "source": []
  }
 ],
 "metadata": {
  "kernelspec": {
   "display_name": "Python 3",
   "language": "python",
   "name": "python3"
  },
  "language_info": {
   "codemirror_mode": {
    "name": "ipython",
    "version": 3
   },
   "file_extension": ".py",
   "mimetype": "text/x-python",
   "name": "python",
   "nbconvert_exporter": "python",
   "pygments_lexer": "ipython3",
   "version": "3.7.4"
  }
 },
 "nbformat": 4,
 "nbformat_minor": 2
}
