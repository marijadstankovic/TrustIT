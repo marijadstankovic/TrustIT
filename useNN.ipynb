{
 "cells": [
  {
   "cell_type": "markdown",
   "metadata": {},
   "source": [
    "input data (title, text, date)"
   ]
  },
  {
   "cell_type": "code",
   "execution_count": 1,
   "metadata": {},
   "outputs": [],
   "source": [
    "import csv\n",
    "import sys\n",
    "import os\n",
    "\n",
    "title = \"'Enemy of mankind': Coronavirus deaths top SARS as China returns to work\"\n",
    "text = \"SHANGHAI/BEIJING (Reuters) - China raised the death toll from its coronavirus outbreak to 811 on Sunday, passing the number killed globally by the SARS epidemic, as authorities made plans for millions of people returning to work after an extended Lunar New Year break. Many of China’s usually teeming cities have almost become ghost towns during the past two weeks as Communist Party rulers ordered virtual lockdowns, canceled flights, closed factories and shut schools. Even on Monday, a large number of workplaces and schools will remain closed and many white-collar employees will work from home. The scale of the potential hit to an economy that has been the engine of global growth in recent years has taken a toll on financial markets, as shares slumped and investors switched into safe-havens such as gold, bonds and the Japanese yen.\"\n",
    "date = 0"
   ]
  },
  {
   "cell_type": "markdown",
   "metadata": {},
   "source": [
    "make vectors"
   ]
  },
  {
   "cell_type": "code",
   "execution_count": 2,
   "metadata": {},
   "outputs": [],
   "source": [
    "from sklearn.feature_extraction.text import TfidfVectorizer\n",
    "from numpy import asarray\n",
    "from numpy import load\n",
    "import pickle\n",
    "\n",
    "mainDir = os.path.dirname(os.path.abspath(\"\"))\n",
    "vectorizerFILE = os.path.join(mainDir, \"Practicas\\\\NN\\\\vectorizerOBJ.sav\")   \n",
    "vectorizer = pickle.load(open(vectorizerFILE, \"rb\"))\n",
    "vectors = vectorizer.transform([text])\n",
    "adapted_vectors = vectors.toarray()"
   ]
  },
  {
   "cell_type": "markdown",
   "metadata": {},
   "source": [
    "use NN (without clusters because they don't improve the prediction)"
   ]
  },
  {
   "cell_type": "code",
   "execution_count": 3,
   "metadata": {},
   "outputs": [
    {
     "name": "stdout",
     "output_type": "stream",
     "text": [
      "[1]\n"
     ]
    }
   ],
   "source": [
    "NN = pickle.load(open(os.path.join(os.path.abspath(\"\"), \"NN\\\\NNPickles.sav\"), 'rb'))\n",
    "result = NN.predict(adapted_vectors)\n",
    "print(result) #"
   ]
  },
  {
   "cell_type": "markdown",
   "metadata": {},
   "source": [
    "use date to check if the news is too old or recent:"
   ]
  },
  {
   "cell_type": "code",
   "execution_count": null,
   "metadata": {},
   "outputs": [],
   "source": [
    "if date>0: #sveza vest poredi sa today\n",
    "    print(\"moguce da je vest sveza i ne postoje rezultati na guglu\")"
   ]
  },
  {
   "cell_type": "code",
   "execution_count": null,
   "metadata": {},
   "outputs": [],
   "source": [
    "if date<-3: #vest starija od baze (npr prvi put kad se pusti skripta za skrepovanje svega, ucita se datum)\n",
    "    print(\"stara vest\")"
   ]
  },
  {
   "cell_type": "markdown",
   "metadata": {},
   "source": [
    "use title to see google search results"
   ]
  },
  {
   "cell_type": "code",
   "execution_count": 5,
   "metadata": {},
   "outputs": [
    {
     "ename": "ModuleNotFoundError",
     "evalue": "No module named 'Google'",
     "output_type": "error",
     "traceback": [
      "\u001b[1;31m---------------------------------------------------------------------------\u001b[0m",
      "\u001b[1;31mModuleNotFoundError\u001b[0m                       Traceback (most recent call last)",
      "\u001b[1;32m<ipython-input-5-ee9b4d242eff>\u001b[0m in \u001b[0;36m<module>\u001b[1;34m\u001b[0m\n\u001b[1;32m----> 1\u001b[1;33m \u001b[1;32mimport\u001b[0m \u001b[0mGoogle\u001b[0m\u001b[1;33m\u001b[0m\u001b[1;33m\u001b[0m\u001b[0m\n\u001b[0m\u001b[0;32m      2\u001b[0m \u001b[1;33m\u001b[0m\u001b[0m\n\u001b[0;32m      3\u001b[0m \u001b[0msearch_results\u001b[0m \u001b[1;33m=\u001b[0m \u001b[0mGoogle\u001b[0m\u001b[1;33m.\u001b[0m\u001b[0mgoogle_API\u001b[0m\u001b[1;33m(\u001b[0m\u001b[0mtitle\u001b[0m\u001b[1;33m)\u001b[0m\u001b[1;33m\u001b[0m\u001b[1;33m\u001b[0m\u001b[0m\n\u001b[0;32m      4\u001b[0m \u001b[1;32mif\u001b[0m \u001b[0msearch_results\u001b[0m \u001b[1;32mis\u001b[0m \u001b[1;32mnot\u001b[0m \u001b[1;32mNone\u001b[0m\u001b[1;33m:\u001b[0m\u001b[1;33m\u001b[0m\u001b[1;33m\u001b[0m\u001b[0m\n\u001b[0;32m      5\u001b[0m     \u001b[1;32mif\u001b[0m \u001b[0msearch_results\u001b[0m \u001b[1;33m<\u001b[0m \u001b[1;36m200\u001b[0m\u001b[1;33m:\u001b[0m\u001b[1;33m\u001b[0m\u001b[1;33m\u001b[0m\u001b[0m\n",
      "\u001b[1;31mModuleNotFoundError\u001b[0m: No module named 'Google'"
     ]
    }
   ],
   "source": [
    "import Google\n",
    "\n",
    "search_results = Google.google_API(title)\n",
    "if search_results is not None:\n",
    "    if search_results < 200:\n",
    "        result = result - 0.2\n",
    "    elif search_results < 200000:\n",
    "        result = result - 0.15\n",
    "    elif search_results < 200000000:\n",
    "        result = result + 0.2\n",
    "    if result < 0:\n",
    "        result = 0\n",
    "    if result > 1:\n",
    "        result = 1\n",
    "print(result)"
   ]
  },
  {
   "cell_type": "markdown",
   "metadata": {},
   "source": [
    "### now you can use clusters to make a pretty graph"
   ]
  },
  {
   "cell_type": "code",
   "execution_count": 7,
   "metadata": {},
   "outputs": [],
   "source": [
    "import pickle\n",
    "from numpy import load\n",
    "from sklearn.cluster import KMeans\n",
    "\n",
    "clusterer = pickle.load(open(os.path.join(os.path.abspath(\"\"), \"NN\\\\clusterPickles.sav\"), 'rb'))\n",
    "clusterer.predict(adapted_vectors)\n",
    "reliables_per_class = load(os.path.join(os.path.abspath(\"\"), 'NN\\\\reliables_per_class.npy'))\n",
    "k_labels = clusterer.labels_"
   ]
  },
  {
   "cell_type": "code",
   "execution_count": null,
   "metadata": {},
   "outputs": [],
   "source": [
    "print(type(clusterer.cluster_centers_))"
   ]
  },
  {
   "cell_type": "code",
   "execution_count": null,
   "metadata": {},
   "outputs": [],
   "source": [
    "print(type(adapted_vectors))"
   ]
  },
  {
   "cell_type": "markdown",
   "metadata": {},
   "source": [
    "clusterer.cluster_centers_ // SVI prema adapted_vectors ??"
   ]
  },
  {
   "cell_type": "code",
   "execution_count": 8,
   "metadata": {},
   "outputs": [],
   "source": [
    "from sklearn.metrics.pairwise import cosine_similarity\n",
    "cosines = cosine_similarity(clusterer.cluster_centers_, adapted_vectors)\n"
   ]
  },
  {
   "cell_type": "code",
   "execution_count": 10,
   "metadata": {},
   "outputs": [
    {
     "name": "stdout",
     "output_type": "stream",
     "text": [
      "100\n"
     ]
    }
   ],
   "source": [
    "print(len(cosines))"
   ]
  },
  {
   "cell_type": "code",
   "execution_count": 12,
   "metadata": {},
   "outputs": [
    {
     "name": "stdout",
     "output_type": "stream",
     "text": [
      "C:\\Users\\MarijaStankovic\\practica externa git\\Practicas\\unreliableCLEAN.csv C:\\Users\\MarijaStankovic\\practica externa git\\Practicas\\reliableALLmost.csv\n"
     ]
    }
   ],
   "source": [
    "mainDir = os.path.abspath(\"\")#the main folder which contains other folders\n",
    "unreliablePath = os.path.join(mainDir, \"unreliableCLEAN.csv\")\n",
    "#the same for reliable\n",
    "reliablePath=os.path.join(mainDir, \"reliableALLmost.csv\")\n",
    "print(unreliablePath, reliablePath)"
   ]
  },
  {
   "cell_type": "code",
   "execution_count": 13,
   "metadata": {},
   "outputs": [],
   "source": [
    "documents = []\n",
    "database = []\n",
    "unreliableNUM=0\n",
    "reliableNUM=0\n",
    "y= []\n",
    "\n",
    "with open(unreliablePath, 'r', encoding='utf8') as db:\n",
    "    reader=csv.reader(db)\n",
    "    next(reader, None) # skip the first line\n",
    "    for row in reader:\n",
    "        documents.append(row[4])\n",
    "        database.append(row)\n",
    "unreliableNUM = len(documents)\n",
    "\n",
    "with open(reliablePath, 'r', encoding='utf8') as db:\n",
    "    reader=csv.reader(db)\n",
    "    next(reader, None) # skip the first line\n",
    "    for row in reader:\n",
    "        documents.append(row[4])\n",
    "        database.append(row)\n",
    "reliableNUM = len(documents) - unreliableNUM\n",
    "\n",
    "old_vectors = vectorizer.transform(documents)\n",
    "adapted_old_vectors = old_vectors.toarray()\n"
   ]
  },
  {
   "cell_type": "code",
   "execution_count": 14,
   "metadata": {},
   "outputs": [
    {
     "name": "stdout",
     "output_type": "stream",
     "text": [
      "(3288, 6705)\n"
     ]
    }
   ],
   "source": [
    "print(adapted_old_vectors.shape)"
   ]
  },
  {
   "cell_type": "code",
   "execution_count": 34,
   "metadata": {},
   "outputs": [
    {
     "name": "stdout",
     "output_type": "stream",
     "text": [
      "3288\n"
     ]
    }
   ],
   "source": [
    "all_cosines = cosine_similarity(adapted_old_vectors, adapted_vectors)\n",
    "array = []\n",
    "for c in all_cosines:\n",
    "    array.append(c[0])\n",
    "print(len(array))"
   ]
  },
  {
   "cell_type": "code",
   "execution_count": 41,
   "metadata": {},
   "outputs": [
    {
     "name": "stdout",
     "output_type": "stream",
     "text": [
      "[[384, 0.32785760464106767], [54, 0.31073602097752523], [300, 0.30992937326189185], [343, 0.3096718265084433], [2296, 0.3083803230789782]]\n"
     ]
    }
   ],
   "source": [
    "best_matches = []\n",
    "for i in range(0,5):\n",
    "    maximal = max(array)\n",
    "    index = array.index(maximal)\n",
    "    best_matches.append([index, maximal])\n",
    "    array[index] = 0\n",
    "print(best_matches)"
   ]
  },
  {
   "cell_type": "code",
   "execution_count": 50,
   "metadata": {},
   "outputs": [
    {
     "name": "stdout",
     "output_type": "stream",
     "text": [
      "https://www.thesun.co.uk\n",
      "https://www.telegraph.co.uk\n",
      "https://www.telegraph.co.uk\n",
      "https://www.telegraph.co.uk\n",
      "\n"
     ]
    }
   ],
   "source": [
    "src = {}\n",
    "src[\"title\"] = []\n",
    "src[\"date\"] = []\n",
    "src[\"source\"] = []\n",
    "src[\"cosinus\"] = []\n",
    "for m in best_matches:\n",
    "    print(database[m[0]][3])\n",
    "    src[\"title\"].append(database[m[0]][1])\n",
    "    src[\"date\"].append(database[m[0]][2])\n",
    "    src[\"source\"].append(database[m[0]][3])\n",
    "    src[\"cosinus\"].append(m[1])\n"
   ]
  },
  {
   "cell_type": "code",
   "execution_count": 51,
   "metadata": {},
   "outputs": [
    {
     "name": "stdout",
     "output_type": "stream",
     "text": [
      "{'title': ['Coronavirus: British Airways halts ALL flights to China over killer bug outbreak', \"\\nIs coronavirus really the next 'Big One'? How worried we should be about the outbreak\\n\", '\\nHong Kong to close borders with mainland China as global alarm spreads over coronavirus\\n', '\\nCoronavirus: Inside the locked down Chinese city with virus deja vu\\n', 'https://www.nytimes.com'], 'date': ['2020-01-29 11:00:00', '2020-01-25 16:00:00+00:00', '2020-01-28 13:22:00+00:00', '2020-01-29 19:00:00+00:00', 'China’s Xi Praises Free Trade. Striking Deals Is Another Matter.'], 'source': ['https://www.thesun.co.uk', 'https://www.telegraph.co.uk', 'https://www.telegraph.co.uk', 'https://www.telegraph.co.uk', ''], 'cosinus': [0.32785760464106767, 0.31073602097752523, 0.30992937326189185, 0.3096718265084433, 0.3083803230789782]}\n"
     ]
    }
   ],
   "source": [
    "print(src)"
   ]
  },
  {
   "cell_type": "code",
   "execution_count": 58,
   "metadata": {},
   "outputs": [],
   "source": [
    "from bokeh.plotting import figure, output_file, show\n",
    "from bokeh.models import ColumnDataSource\n",
    "\n",
    "# output_file(\"bar_basic.html\")\n",
    "\n",
    "source = ColumnDataSource(data=dict(x=[], top=[], date=[], source=[]))\n",
    "source.data = dict(\n",
    "        x=[2, 4, 6, 8, 10],\n",
    "        title = src[\"title\"],\n",
    "        top = src[\"cosinus\"],\n",
    "        date = src[\"date\"],\n",
    "        source = src[\"source\"],\n",
    "    )\n",
    "TOOLTIPS=[\n",
    "    (\"Title\", \"@title\"),\n",
    "    (\"Date\", \"@date\"),\n",
    "    (\"Source\", \"@source\"),\n",
    "]\n",
    "\n",
    "\n",
    "p = figure( plot_height=350, title=\"Fruit Counts\",\n",
    "           tooltips=TOOLTIPS) #, tools=\"\"  toolbar_location=None x_range=src[\"title\"],\n",
    "p.vbar(x=\"x\", top=\"top\", width=0.9, line_color=\"#888888\", fill_color=\"#f55933\", source=source)\n",
    "\n",
    "p.xgrid.grid_line_color = None\n",
    "p.y_range.start = 0\n",
    "\n",
    "show(p)"
   ]
  },
  {
   "cell_type": "code",
   "execution_count": 66,
   "metadata": {},
   "outputs": [
    {
     "data": {
      "text/plain": [
       "'{\"target_id\": \"graph\", \"root_id\": \"1669\", \"doc\": {\"roots\": {\"references\": [{\"attributes\": {}, \"id\": \"1691\", \"type\": \"WheelZoomTool\"}, {\"attributes\": {\"fill_alpha\": {\"value\": 0.1}, \"fill_color\": {\"value\": \"#1f77b4\"}, \"line_alpha\": {\"value\": 0.1}, \"line_color\": {\"value\": \"#1f77b4\"}, \"top\": {\"field\": \"top\"}, \"width\": {\"value\": 0.9}, \"x\": {\"field\": \"x\"}}, \"id\": \"1707\", \"type\": \"VBar\"}, {\"attributes\": {\"dimension\": 1, \"ticker\": {\"id\": \"1686\", \"type\": \"BasicTicker\"}}, \"id\": \"1689\", \"type\": \"Grid\"}, {\"attributes\": {\"callback\": null, \"tooltips\": [[\"Title\", \"@title\"], [\"Date\", \"@date\"], [\"Source\", \"@source\"]]}, \"id\": \"1696\", \"type\": \"HoverTool\"}, {\"attributes\": {\"active_drag\": \"auto\", \"active_inspect\": \"auto\", \"active_multi\": null, \"active_scroll\": \"auto\", \"active_tap\": \"auto\", \"tools\": [{\"id\": \"1690\", \"type\": \"PanTool\"}, {\"id\": \"1691\", \"type\": \"WheelZoomTool\"}, {\"id\": \"1692\", \"type\": \"BoxZoomTool\"}, {\"id\": \"1693\", \"type\": \"SaveTool\"}, {\"id\": \"1694\", \"type\": \"ResetTool\"}, {\"id\": \"1695\", \"type\": \"HelpTool\"}, {\"id\": \"1696\", \"type\": \"HoverTool\"}]}, \"id\": \"1697\", \"type\": \"Toolbar\"}, {\"attributes\": {\"overlay\": {\"id\": \"1715\", \"type\": \"BoxAnnotation\"}}, \"id\": \"1692\", \"type\": \"BoxZoomTool\"}, {\"attributes\": {}, \"id\": \"1713\", \"type\": \"BasicTickFormatter\"}, {\"attributes\": {\"grid_line_color\": null, \"ticker\": {\"id\": \"1681\", \"type\": \"BasicTicker\"}}, \"id\": \"1684\", \"type\": \"Grid\"}, {\"attributes\": {}, \"id\": \"1717\", \"type\": \"UnionRenderers\"}, {\"attributes\": {\"below\": [{\"id\": \"1680\", \"type\": \"LinearAxis\"}], \"center\": [{\"id\": \"1684\", \"type\": \"Grid\"}, {\"id\": \"1689\", \"type\": \"Grid\"}], \"left\": [{\"id\": \"1685\", \"type\": \"LinearAxis\"}], \"plot_height\": 350, \"renderers\": [{\"id\": \"1708\", \"type\": \"GlyphRenderer\"}], \"title\": {\"id\": \"1670\", \"type\": \"Title\"}, \"toolbar\": {\"id\": \"1697\", \"type\": \"Toolbar\"}, \"x_range\": {\"id\": \"1672\", \"type\": \"DataRange1d\"}, \"x_scale\": {\"id\": \"1676\", \"type\": \"LinearScale\"}, \"y_range\": {\"id\": \"1674\", \"type\": \"DataRange1d\"}, \"y_scale\": {\"id\": \"1678\", \"type\": \"LinearScale\"}}, \"id\": \"1669\", \"subtype\": \"Figure\", \"type\": \"Plot\"}, {\"attributes\": {\"fill_color\": {\"value\": \"#f55933\"}, \"line_color\": {\"value\": \"#888888\"}, \"top\": {\"field\": \"top\"}, \"width\": {\"value\": 0.9}, \"x\": {\"field\": \"x\"}}, \"id\": \"1706\", \"type\": \"VBar\"}, {\"attributes\": {}, \"id\": \"1690\", \"type\": \"PanTool\"}, {\"attributes\": {\"text\": \"Fruit Counts\"}, \"id\": \"1670\", \"type\": \"Title\"}, {\"attributes\": {}, \"id\": \"1686\", \"type\": \"BasicTicker\"}, {\"attributes\": {\"source\": {\"id\": \"1668\", \"type\": \"ColumnDataSource\"}}, \"id\": \"1709\", \"type\": \"CDSView\"}, {\"attributes\": {}, \"id\": \"1711\", \"type\": \"BasicTickFormatter\"}, {\"attributes\": {}, \"id\": \"1676\", \"type\": \"LinearScale\"}, {\"attributes\": {}, \"id\": \"1681\", \"type\": \"BasicTicker\"}, {\"attributes\": {\"formatter\": {\"id\": \"1713\", \"type\": \"BasicTickFormatter\"}, \"ticker\": {\"id\": \"1686\", \"type\": \"BasicTicker\"}}, \"id\": \"1685\", \"type\": \"LinearAxis\"}, {\"attributes\": {}, \"id\": \"1695\", \"type\": \"HelpTool\"}, {\"attributes\": {\"callback\": null, \"start\": 0}, \"id\": \"1674\", \"type\": \"DataRange1d\"}, {\"attributes\": {}, \"id\": \"1694\", \"type\": \"ResetTool\"}, {\"attributes\": {\"callback\": null, \"data\": {\"date\": [\"2020-01-29 11:00:00\", \"2020-01-25 16:00:00+00:00\", \"2020-01-28 13:22:00+00:00\", \"2020-01-29 19:00:00+00:00\", \"China\\\\u2019s Xi Praises Free Trade. Striking Deals Is Another Matter.\"], \"source\": [\"https://www.thesun.co.uk\", \"https://www.telegraph.co.uk\", \"https://www.telegraph.co.uk\", \"https://www.telegraph.co.uk\", \"\"], \"title\": [\"Coronavirus: British Airways halts ALL flights to China over killer bug outbreak\", \"\\\\nIs coronavirus really the next \\'Big One\\'? How worried we should be about the outbreak\\\\n\", \"\\\\nHong Kong to close borders with mainland China as global alarm spreads over coronavirus\\\\n\", \"\\\\nCoronavirus: Inside the locked down Chinese city with virus deja vu\\\\n\", \"https://www.nytimes.com\"], \"top\": [0.32785760464106767, 0.31073602097752523, 0.30992937326189185, 0.3096718265084433, 0.3083803230789782], \"x\": [2, 4, 6, 8, 10]}, \"selected\": {\"id\": \"1716\", \"type\": \"Selection\"}, \"selection_policy\": {\"id\": \"1717\", \"type\": \"UnionRenderers\"}}, \"id\": \"1668\", \"type\": \"ColumnDataSource\"}, {\"attributes\": {\"formatter\": {\"id\": \"1711\", \"type\": \"BasicTickFormatter\"}, \"ticker\": {\"id\": \"1681\", \"type\": \"BasicTicker\"}}, \"id\": \"1680\", \"type\": \"LinearAxis\"}, {\"attributes\": {}, \"id\": \"1716\", \"type\": \"Selection\"}, {\"attributes\": {}, \"id\": \"1693\", \"type\": \"SaveTool\"}, {\"attributes\": {\"bottom_units\": \"screen\", \"fill_alpha\": {\"value\": 0.5}, \"fill_color\": {\"value\": \"lightgrey\"}, \"left_units\": \"screen\", \"level\": \"overlay\", \"line_alpha\": {\"value\": 1.0}, \"line_color\": {\"value\": \"black\"}, \"line_dash\": [4, 4], \"line_width\": {\"value\": 2}, \"render_mode\": \"css\", \"right_units\": \"screen\", \"top_units\": \"screen\"}, \"id\": \"1715\", \"type\": \"BoxAnnotation\"}, {\"attributes\": {\"callback\": null}, \"id\": \"1672\", \"type\": \"DataRange1d\"}, {\"attributes\": {\"data_source\": {\"id\": \"1668\", \"type\": \"ColumnDataSource\"}, \"glyph\": {\"id\": \"1706\", \"type\": \"VBar\"}, \"hover_glyph\": null, \"muted_glyph\": null, \"nonselection_glyph\": {\"id\": \"1707\", \"type\": \"VBar\"}, \"selection_glyph\": null, \"view\": {\"id\": \"1709\", \"type\": \"CDSView\"}}, \"id\": \"1708\", \"type\": \"GlyphRenderer\"}, {\"attributes\": {}, \"id\": \"1678\", \"type\": \"LinearScale\"}], \"root_ids\": [\"1669\"]}, \"title\": \"\", \"version\": \"1.3.4\"}}'"
      ]
     },
     "execution_count": 66,
     "metadata": {},
     "output_type": "execute_result"
    }
   ],
   "source": [
    "import json\n",
    "from bokeh.embed import json_item\n",
    "\n",
    "json.dumps(json_item(p, \"graph\"))"
   ]
  },
  {
   "cell_type": "code",
   "execution_count": null,
   "metadata": {},
   "outputs": [],
   "source": []
  }
 ],
 "metadata": {
  "kernelspec": {
   "display_name": "Python 3",
   "language": "python",
   "name": "python3"
  },
  "language_info": {
   "codemirror_mode": {
    "name": "ipython",
    "version": 3
   },
   "file_extension": ".py",
   "mimetype": "text/x-python",
   "name": "python",
   "nbconvert_exporter": "python",
   "pygments_lexer": "ipython3",
   "version": "3.7.4"
  }
 },
 "nbformat": 4,
 "nbformat_minor": 2
}
