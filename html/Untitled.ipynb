{
 "cells": [
  {
   "cell_type": "code",
   "execution_count": null,
   "metadata": {},
   "outputs": [
    {
     "name": "stdout",
     "output_type": "stream",
     "text": [
      " * Serving Flask app \"__main__\" (lazy loading)\n",
      " * Environment: production\n",
      "   WARNING: This is a development server. Do not use it in a production deployment.\n",
      "   Use a production WSGI server instead.\n",
      " * Debug mode: off\n"
     ]
    },
    {
     "name": "stderr",
     "output_type": "stream",
     "text": [
      " * Running on http://127.0.0.1:5000/ (Press CTRL+C to quit)\n",
      "127.0.0.1 - - [04/Feb/2020 21:16:11] \"GET / HTTP/1.1\" 200 -\n",
      "127.0.0.1 - - [04/Feb/2020 21:16:12] \"GET /plot2 HTTP/1.1\" 200 -\n",
      "127.0.0.1 - - [04/Feb/2020 21:16:12] \"GET /plot HTTP/1.1\" 200 -\n",
      "127.0.0.1 - - [04/Feb/2020 21:17:24] \"GET / HTTP/1.1\" 200 -\n",
      "127.0.0.1 - - [04/Feb/2020 21:17:24] \"GET /plot HTTP/1.1\" 200 -\n",
      "127.0.0.1 - - [04/Feb/2020 21:17:24] \"GET /plot2 HTTP/1.1\" 200 -\n",
      "127.0.0.1 - - [04/Feb/2020 21:17:24] \"GET /favicon.ico HTTP/1.1\" 404 -\n",
      "127.0.0.1 - - [04/Feb/2020 21:17:35] \"GET / HTTP/1.1\" 200 -\n",
      "127.0.0.1 - - [04/Feb/2020 21:17:36] \"GET /plot HTTP/1.1\" 200 -\n",
      "127.0.0.1 - - [04/Feb/2020 21:17:36] \"GET /plot2 HTTP/1.1\" 200 -\n"
     ]
    }
   ],
   "source": [
    "from __future__ import print_function\n",
    "import json\n",
    "\n",
    "from bokeh.embed import json_item\n",
    "from bokeh.plotting import figure\n",
    "from bokeh.resources import CDN\n",
    "from bokeh.sampledata.iris import flowers\n",
    "\n",
    "from flask import Flask\n",
    "from jinja2 import Template\n",
    "\n",
    "app = Flask(__name__)\n",
    "\n",
    "page = Template(\"\"\"\n",
    "<!DOCTYPE html>\n",
    "<html lang=\"en\">\n",
    "<head>\n",
    "  {{ resources }}\n",
    "</head>\n",
    "<body>\n",
    "  <div id=\"myplot\"></div>\n",
    "  <div id=\"myplot2\"></div>\n",
    "  <script>\n",
    "  fetch('/plot')\n",
    "    .then(function(response) { return response.json(); })\n",
    "    .then(function(item) { Bokeh.embed.embed_item(item); })\n",
    "  </script>\n",
    "  <script>\n",
    "  fetch('/plot2')\n",
    "    .then(function(response) { return response.json(); })\n",
    "    .then(function(item) { Bokeh.embed.embed_item(item, \"myplot2\"); })\n",
    "  </script>\n",
    "</body>\n",
    "\"\"\")\n",
    "\n",
    "colormap = {'setosa': 'red', 'versicolor': 'green', 'virginica': 'blue'}\n",
    "colors = [colormap[x] for x in flowers['species']]\n",
    "\n",
    "def make_plot(x, y):\n",
    "    p = figure(title = \"Iris Morphology\", sizing_mode=\"fixed\", plot_width=400, plot_height=400)\n",
    "    p.xaxis.axis_label = x\n",
    "    p.yaxis.axis_label = y\n",
    "    p.circle(flowers[x], flowers[y], color=colors, fill_alpha=0.2, size=10)\n",
    "    return p\n",
    "\n",
    "@app.route('/')\n",
    "def root():\n",
    "    return page.render(resources=CDN.render())\n",
    "\n",
    "@app.route('/plot')\n",
    "def plot():\n",
    "    p = make_plot('petal_width', 'petal_length')\n",
    "    return json.dumps(json_item(p, \"myplot\"))\n",
    "\n",
    "@app.route('/plot2')\n",
    "def plot2():\n",
    "    p = make_plot('sepal_width', 'sepal_length')\n",
    "    return json.dumps(json_item(p))\n",
    "\n",
    "if __name__ == '__main__':\n",
    "    app.run()"
   ]
  },
  {
   "cell_type": "code",
   "execution_count": null,
   "metadata": {},
   "outputs": [],
   "source": []
  }
 ],
 "metadata": {
  "kernelspec": {
   "display_name": "Python 3",
   "language": "python",
   "name": "python3"
  },
  "language_info": {
   "codemirror_mode": {
    "name": "ipython",
    "version": 3
   },
   "file_extension": ".py",
   "mimetype": "text/x-python",
   "name": "python",
   "nbconvert_exporter": "python",
   "pygments_lexer": "ipython3",
   "version": "3.7.4"
  }
 },
 "nbformat": 4,
 "nbformat_minor": 2
}
