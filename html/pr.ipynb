{
 "cells": [
  {
   "cell_type": "code",
   "execution_count": 2,
   "metadata": {},
   "outputs": [],
   "source": [
    "# def main():\n",
    "#     return \"PYTHON JE ODGOVORIO\"\n",
    "\n",
    "# if __name__ == \"__main__\":\n",
    "#     x=main()\n",
    "#     return x;"
   ]
  },
  {
   "cell_type": "code",
   "execution_count": 3,
   "metadata": {},
   "outputs": [
    {
     "name": "stdout",
     "output_type": "stream",
     "text": [
      "Requirement already satisfied: flask in c:\\programdata\\anaconda3\\lib\\site-packages (1.1.1)\n",
      "Requirement already satisfied: Jinja2>=2.10.1 in c:\\programdata\\anaconda3\\lib\\site-packages (from flask) (2.10.3)\n",
      "Requirement already satisfied: itsdangerous>=0.24 in c:\\programdata\\anaconda3\\lib\\site-packages (from flask) (1.1.0)\n",
      "Requirement already satisfied: click>=5.1 in c:\\programdata\\anaconda3\\lib\\site-packages (from flask) (7.0)\n",
      "Requirement already satisfied: Werkzeug>=0.15 in c:\\programdata\\anaconda3\\lib\\site-packages (from flask) (0.16.0)\n",
      "Requirement already satisfied: MarkupSafe>=0.23 in c:\\programdata\\anaconda3\\lib\\site-packages (from Jinja2>=2.10.1->flask) (1.1.1)\n",
      "Note: you may need to restart the kernel to use updated packages.\n"
     ]
    }
   ],
   "source": [
    "# pip install flask"
   ]
  },
  {
   "cell_type": "code",
   "execution_count": 11,
   "metadata": {},
   "outputs": [],
   "source": [
    "from flask import Flask, escape, request\n",
    "from bokeh.embed import json_item\n",
    "from bokeh.plotting import figure\n",
    "import json\n",
    "from bokeh.io import curdoc, show\n",
    "from bokeh.layouts import column, layout\n",
    "from bokeh.models import TextAreaInput, Button, ColumnDataSource, Div, Select, Slider, TextInput\n",
    "from bokeh.plotting import figure\n",
    "from bokeh.resources import CDN\n",
    "from os.path import dirname, join\n",
    "\n",
    "app = Flask(__name__)\n",
    "\n",
    "page = Div(text=open(join(dirname(__file__), \"pr.html\")).read(), sizing_mode=\"stretch_width\")\n",
    "@app.route('/')\n",
    "def root():\n",
    "    return page.render(resources=CDN.render())\n",
    "@app.route('/proba')\n",
    "\n",
    "def proba():\n",
    "#     name = request.args.get(\"name\", \"World\")\n",
    "    plot = figure(plot_height=400, plot_width=500, sizing_mode=\"scale_both\")\n",
    "    source = ColumnDataSource(data=dict(x=[], y=[]))\n",
    "    source.data = dict(x=[1,2,3,100], y=[1,2,3,100])\n",
    "    plot.circle(x=\"x\", y=\"y\", source = source)\n",
    "    objekat ={}\n",
    "    objekat[\"graf\"] = json_item(plot, \"myplot\")\n",
    "    objekat[\"predict\"] = 56\n",
    "    \n",
    "    return json.dumps(objekat)#json.dumps(json_item(objekat, \"myplot\"))\n",
    "\n"
   ]
  },
  {
   "cell_type": "code",
   "execution_count": 12,
   "metadata": {},
   "outputs": [
    {
     "data": {
      "text/plain": [
       "'{\"graf\": {\"target_id\": \"myplot\", \"root_id\": \"1077\", \"doc\": {\"roots\": {\"references\": [{\"attributes\": {}, \"id\": \"1101\", \"type\": \"HelpTool\"}, {\"attributes\": {\"bottom_units\": \"screen\", \"fill_alpha\": {\"value\": 0.5}, \"fill_color\": {\"value\": \"lightgrey\"}, \"left_units\": \"screen\", \"level\": \"overlay\", \"line_alpha\": {\"value\": 1.0}, \"line_color\": {\"value\": \"black\"}, \"line_dash\": [4, 4], \"line_width\": {\"value\": 2}, \"render_mode\": \"css\", \"right_units\": \"screen\", \"top_units\": \"screen\"}, \"id\": \"1123\", \"type\": \"BoxAnnotation\"}, {\"attributes\": {\"formatter\": {\"id\": \"1118\", \"type\": \"BasicTickFormatter\"}, \"ticker\": {\"id\": \"1092\", \"type\": \"BasicTicker\"}}, \"id\": \"1091\", \"type\": \"LinearAxis\"}, {\"attributes\": {}, \"id\": \"1122\", \"type\": \"Selection\"}, {\"attributes\": {\"text\": \"\"}, \"id\": \"1115\", \"type\": \"Title\"}, {\"attributes\": {\"fill_alpha\": {\"value\": 0.1}, \"fill_color\": {\"value\": \"#1f77b4\"}, \"line_alpha\": {\"value\": 0.1}, \"line_color\": {\"value\": \"#1f77b4\"}, \"x\": {\"field\": \"x\"}, \"y\": {\"field\": \"y\"}}, \"id\": \"1112\", \"type\": \"Circle\"}, {\"attributes\": {\"active_drag\": \"auto\", \"active_inspect\": \"auto\", \"active_multi\": null, \"active_scroll\": \"auto\", \"active_tap\": \"auto\", \"tools\": [{\"id\": \"1096\", \"type\": \"PanTool\"}, {\"id\": \"1097\", \"type\": \"WheelZoomTool\"}, {\"id\": \"1098\", \"type\": \"BoxZoomTool\"}, {\"id\": \"1099\", \"type\": \"SaveTool\"}, {\"id\": \"1100\", \"type\": \"ResetTool\"}, {\"id\": \"1101\", \"type\": \"HelpTool\"}]}, \"id\": \"1102\", \"type\": \"Toolbar\"}, {\"attributes\": {}, \"id\": \"1082\", \"type\": \"LinearScale\"}, {\"attributes\": {}, \"id\": \"1100\", \"type\": \"ResetTool\"}, {\"attributes\": {}, \"id\": \"1092\", \"type\": \"BasicTicker\"}, {\"attributes\": {}, \"id\": \"1120\", \"type\": \"BasicTickFormatter\"}, {\"attributes\": {\"fill_color\": {\"value\": \"#1f77b4\"}, \"line_color\": {\"value\": \"#1f77b4\"}, \"x\": {\"field\": \"x\"}, \"y\": {\"field\": \"y\"}}, \"id\": \"1111\", \"type\": \"Circle\"}, {\"attributes\": {\"callback\": null}, \"id\": \"1080\", \"type\": \"DataRange1d\"}, {\"attributes\": {}, \"id\": \"1087\", \"type\": \"BasicTicker\"}, {\"attributes\": {}, \"id\": \"1097\", \"type\": \"WheelZoomTool\"}, {\"attributes\": {}, \"id\": \"1121\", \"type\": \"UnionRenderers\"}, {\"attributes\": {}, \"id\": \"1096\", \"type\": \"PanTool\"}, {\"attributes\": {}, \"id\": \"1084\", \"type\": \"LinearScale\"}, {\"attributes\": {}, \"id\": \"1118\", \"type\": \"BasicTickFormatter\"}, {\"attributes\": {\"overlay\": {\"id\": \"1123\", \"type\": \"BoxAnnotation\"}}, \"id\": \"1098\", \"type\": \"BoxZoomTool\"}, {\"attributes\": {\"callback\": null, \"data\": {\"x\": [1, 2, 3, 100], \"y\": [1, 2, 3, 100]}, \"selected\": {\"id\": \"1122\", \"type\": \"Selection\"}, \"selection_policy\": {\"id\": \"1121\", \"type\": \"UnionRenderers\"}}, \"id\": \"1109\", \"type\": \"ColumnDataSource\"}, {\"attributes\": {}, \"id\": \"1099\", \"type\": \"SaveTool\"}, {\"attributes\": {\"formatter\": {\"id\": \"1120\", \"type\": \"BasicTickFormatter\"}, \"ticker\": {\"id\": \"1087\", \"type\": \"BasicTicker\"}}, \"id\": \"1086\", \"type\": \"LinearAxis\"}, {\"attributes\": {\"ticker\": {\"id\": \"1087\", \"type\": \"BasicTicker\"}}, \"id\": \"1090\", \"type\": \"Grid\"}, {\"attributes\": {\"source\": {\"id\": \"1109\", \"type\": \"ColumnDataSource\"}}, \"id\": \"1114\", \"type\": \"CDSView\"}, {\"attributes\": {\"data_source\": {\"id\": \"1109\", \"type\": \"ColumnDataSource\"}, \"glyph\": {\"id\": \"1111\", \"type\": \"Circle\"}, \"hover_glyph\": null, \"muted_glyph\": null, \"nonselection_glyph\": {\"id\": \"1112\", \"type\": \"Circle\"}, \"selection_glyph\": null, \"view\": {\"id\": \"1114\", \"type\": \"CDSView\"}}, \"id\": \"1113\", \"type\": \"GlyphRenderer\"}, {\"attributes\": {\"below\": [{\"id\": \"1086\", \"type\": \"LinearAxis\"}], \"center\": [{\"id\": \"1090\", \"type\": \"Grid\"}, {\"id\": \"1095\", \"type\": \"Grid\"}], \"left\": [{\"id\": \"1091\", \"type\": \"LinearAxis\"}], \"plot_height\": 400, \"plot_width\": 500, \"renderers\": [{\"id\": \"1113\", \"type\": \"GlyphRenderer\"}], \"sizing_mode\": \"scale_both\", \"title\": {\"id\": \"1115\", \"type\": \"Title\"}, \"toolbar\": {\"id\": \"1102\", \"type\": \"Toolbar\"}, \"x_range\": {\"id\": \"1078\", \"type\": \"DataRange1d\"}, \"x_scale\": {\"id\": \"1082\", \"type\": \"LinearScale\"}, \"y_range\": {\"id\": \"1080\", \"type\": \"DataRange1d\"}, \"y_scale\": {\"id\": \"1084\", \"type\": \"LinearScale\"}}, \"id\": \"1077\", \"subtype\": \"Figure\", \"type\": \"Plot\"}, {\"attributes\": {\"dimension\": 1, \"ticker\": {\"id\": \"1092\", \"type\": \"BasicTicker\"}}, \"id\": \"1095\", \"type\": \"Grid\"}, {\"attributes\": {\"callback\": null}, \"id\": \"1078\", \"type\": \"DataRange1d\"}], \"root_ids\": [\"1077\"]}, \"title\": \"\", \"version\": \"1.3.4\"}}, \"predict\": 56}'"
      ]
     },
     "execution_count": 12,
     "metadata": {},
     "output_type": "execute_result"
    }
   ],
   "source": [
    "proba()"
   ]
  },
  {
   "cell_type": "code",
   "execution_count": null,
   "metadata": {},
   "outputs": [],
   "source": []
  }
 ],
 "metadata": {
  "kernelspec": {
   "display_name": "Python 3",
   "language": "python",
   "name": "python3"
  },
  "language_info": {
   "codemirror_mode": {
    "name": "ipython",
    "version": 3
   },
   "file_extension": ".py",
   "mimetype": "text/x-python",
   "name": "python",
   "nbconvert_exporter": "python",
   "pygments_lexer": "ipython3",
   "version": "3.7.4"
  }
 },
 "nbformat": 4,
 "nbformat_minor": 2
}
