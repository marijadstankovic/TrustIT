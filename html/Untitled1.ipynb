{
 "cells": [
  {
   "cell_type": "code",
   "execution_count": 14,
   "metadata": {},
   "outputs": [
    {
     "data": {
      "text/plain": [
       "'{\"graf\": {\"target_id\": \"myplot\", \"root_id\": \"2056\", \"doc\": {\"roots\": {\"references\": [{\"attributes\": {\"formatter\": {\"id\": \"2097\", \"type\": \"BasicTickFormatter\"}, \"ticker\": {\"id\": \"2071\", \"type\": \"BasicTicker\"}}, \"id\": \"2070\", \"type\": \"LinearAxis\"}, {\"attributes\": {\"overlay\": {\"id\": \"2100\", \"type\": \"BoxAnnotation\"}}, \"id\": \"2077\", \"type\": \"BoxZoomTool\"}, {\"attributes\": {\"text\": \"\"}, \"id\": \"2095\", \"type\": \"Title\"}, {\"attributes\": {}, \"id\": \"2078\", \"type\": \"SaveTool\"}, {\"attributes\": {}, \"id\": \"2079\", \"type\": \"ResetTool\"}, {\"attributes\": {}, \"id\": \"2102\", \"type\": \"Selection\"}, {\"attributes\": {}, \"id\": \"2071\", \"type\": \"BasicTicker\"}, {\"attributes\": {\"bottom_units\": \"screen\", \"fill_alpha\": {\"value\": 0.5}, \"fill_color\": {\"value\": \"lightgrey\"}, \"left_units\": \"screen\", \"level\": \"overlay\", \"line_alpha\": {\"value\": 1.0}, \"line_color\": {\"value\": \"black\"}, \"line_dash\": [4, 4], \"line_width\": {\"value\": 2}, \"render_mode\": \"css\", \"right_units\": \"screen\", \"top_units\": \"screen\"}, \"id\": \"2100\", \"type\": \"BoxAnnotation\"}, {\"attributes\": {\"fill_alpha\": {\"value\": 0.1}, \"fill_color\": {\"value\": \"#1f77b4\"}, \"line_alpha\": {\"value\": 0.1}, \"line_color\": {\"value\": \"#1f77b4\"}, \"x\": {\"field\": \"x\"}, \"y\": {\"field\": \"y\"}}, \"id\": \"2091\", \"type\": \"Circle\"}, {\"attributes\": {}, \"id\": \"2097\", \"type\": \"BasicTickFormatter\"}, {\"attributes\": {\"fill_color\": {\"value\": \"#1f77b4\"}, \"line_color\": {\"value\": \"#1f77b4\"}, \"x\": {\"field\": \"x\"}, \"y\": {\"field\": \"y\"}}, \"id\": \"2090\", \"type\": \"Circle\"}, {\"attributes\": {\"callback\": null}, \"id\": \"2057\", \"type\": \"DataRange1d\"}, {\"attributes\": {}, \"id\": \"2080\", \"type\": \"HelpTool\"}, {\"attributes\": {}, \"id\": \"2099\", \"type\": \"BasicTickFormatter\"}, {\"attributes\": {\"below\": [{\"id\": \"2065\", \"type\": \"LinearAxis\"}], \"center\": [{\"id\": \"2069\", \"type\": \"Grid\"}, {\"id\": \"2074\", \"type\": \"Grid\"}], \"left\": [{\"id\": \"2070\", \"type\": \"LinearAxis\"}], \"plot_height\": 400, \"plot_width\": 500, \"renderers\": [{\"id\": \"2092\", \"type\": \"GlyphRenderer\"}], \"sizing_mode\": \"scale_both\", \"title\": {\"id\": \"2095\", \"type\": \"Title\"}, \"toolbar\": {\"id\": \"2081\", \"type\": \"Toolbar\"}, \"x_range\": {\"id\": \"2057\", \"type\": \"DataRange1d\"}, \"x_scale\": {\"id\": \"2061\", \"type\": \"LinearScale\"}, \"y_range\": {\"id\": \"2059\", \"type\": \"DataRange1d\"}, \"y_scale\": {\"id\": \"2063\", \"type\": \"LinearScale\"}}, \"id\": \"2056\", \"subtype\": \"Figure\", \"type\": \"Plot\"}, {\"attributes\": {\"callback\": null}, \"id\": \"2059\", \"type\": \"DataRange1d\"}, {\"attributes\": {\"data_source\": {\"id\": \"2088\", \"type\": \"ColumnDataSource\"}, \"glyph\": {\"id\": \"2090\", \"type\": \"Circle\"}, \"hover_glyph\": null, \"muted_glyph\": null, \"nonselection_glyph\": {\"id\": \"2091\", \"type\": \"Circle\"}, \"selection_glyph\": null, \"view\": {\"id\": \"2093\", \"type\": \"CDSView\"}}, \"id\": \"2092\", \"type\": \"GlyphRenderer\"}, {\"attributes\": {}, \"id\": \"2061\", \"type\": \"LinearScale\"}, {\"attributes\": {}, \"id\": \"2075\", \"type\": \"PanTool\"}, {\"attributes\": {\"callback\": null, \"data\": {\"x\": [1, 2, 3, 100], \"y\": [1, 2, 3, 100]}, \"selected\": {\"id\": \"2102\", \"type\": \"Selection\"}, \"selection_policy\": {\"id\": \"2101\", \"type\": \"UnionRenderers\"}}, \"id\": \"2088\", \"type\": \"ColumnDataSource\"}, {\"attributes\": {\"ticker\": {\"id\": \"2066\", \"type\": \"BasicTicker\"}}, \"id\": \"2069\", \"type\": \"Grid\"}, {\"attributes\": {\"dimension\": 1, \"ticker\": {\"id\": \"2071\", \"type\": \"BasicTicker\"}}, \"id\": \"2074\", \"type\": \"Grid\"}, {\"attributes\": {\"source\": {\"id\": \"2088\", \"type\": \"ColumnDataSource\"}}, \"id\": \"2093\", \"type\": \"CDSView\"}, {\"attributes\": {}, \"id\": \"2066\", \"type\": \"BasicTicker\"}, {\"attributes\": {}, \"id\": \"2063\", \"type\": \"LinearScale\"}, {\"attributes\": {\"active_drag\": \"auto\", \"active_inspect\": \"auto\", \"active_multi\": null, \"active_scroll\": \"auto\", \"active_tap\": \"auto\", \"tools\": [{\"id\": \"2075\", \"type\": \"PanTool\"}, {\"id\": \"2076\", \"type\": \"WheelZoomTool\"}, {\"id\": \"2077\", \"type\": \"BoxZoomTool\"}, {\"id\": \"2078\", \"type\": \"SaveTool\"}, {\"id\": \"2079\", \"type\": \"ResetTool\"}, {\"id\": \"2080\", \"type\": \"HelpTool\"}]}, \"id\": \"2081\", \"type\": \"Toolbar\"}, {\"attributes\": {}, \"id\": \"2101\", \"type\": \"UnionRenderers\"}, {\"attributes\": {\"formatter\": {\"id\": \"2099\", \"type\": \"BasicTickFormatter\"}, \"ticker\": {\"id\": \"2066\", \"type\": \"BasicTicker\"}}, \"id\": \"2065\", \"type\": \"LinearAxis\"}, {\"attributes\": {}, \"id\": \"2076\", \"type\": \"WheelZoomTool\"}], \"root_ids\": [\"2056\"]}, \"title\": \"\", \"version\": \"1.3.4\"}}, \"predict\": 56}'"
      ]
     },
     "execution_count": 14,
     "metadata": {},
     "output_type": "execute_result"
    }
   ],
   "source": [
    "from flask import Flask, escape, request\n",
    "from bokeh.embed import json_item\n",
    "from bokeh.plotting import figure\n",
    "import json\n",
    "from bokeh.io import curdoc, show\n",
    "from bokeh.layouts import column, layout\n",
    "from bokeh.models import TextAreaInput, Button, ColumnDataSource, Div, Select, Slider, TextInput\n",
    "from bokeh.plotting import figure\n",
    "\n",
    "plot = figure(plot_height=400, plot_width=500, sizing_mode=\"scale_both\")\n",
    "source = ColumnDataSource(data=dict(x=[], y=[]))\n",
    "source.data = dict(x=[1,2,3,100], y=[1,2,3,100])\n",
    "plot.circle(x=\"x\", y=\"y\", source = source)\n",
    "objekat ={}\n",
    "objekat[\"graf\"] = json_item(plot, \"myplot\")\n",
    "objekat[\"predict\"] = 56\n",
    "\n",
    "# json.dumps(json_item(plot, \"myplot\"))\n",
    "json.dumps(objekat)"
   ]
  },
  {
   "cell_type": "code",
   "execution_count": null,
   "metadata": {},
   "outputs": [],
   "source": []
  }
 ],
 "metadata": {
  "kernelspec": {
   "display_name": "Python 3",
   "language": "python",
   "name": "python3"
  },
  "language_info": {
   "codemirror_mode": {
    "name": "ipython",
    "version": 3
   },
   "file_extension": ".py",
   "mimetype": "text/x-python",
   "name": "python",
   "nbconvert_exporter": "python",
   "pygments_lexer": "ipython3",
   "version": "3.7.4"
  }
 },
 "nbformat": 4,
 "nbformat_minor": 2
}
