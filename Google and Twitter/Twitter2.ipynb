{
 "cells": [
  {
   "cell_type": "code",
   "execution_count": 5,
   "metadata": {},
   "outputs": [
    {
     "ename": "TwythonRateLimitError",
     "evalue": "Twitter API returned a 429 (Too Many Requests), Rate limit exceeded",
     "output_type": "error",
     "traceback": [
      "\u001b[1;31m---------------------------------------------------------------------------\u001b[0m",
      "\u001b[1;31mTwythonRateLimitError\u001b[0m                     Traceback (most recent call last)",
      "\u001b[1;32m<ipython-input-5-22270488f470>\u001b[0m in \u001b[0;36m<module>\u001b[1;34m\u001b[0m\n\u001b[0;32m     40\u001b[0m \u001b[1;33m\u001b[0m\u001b[0m\n\u001b[0;32m     41\u001b[0m     \u001b[1;31m#Twitter is queried (again, this time with the addition of 'max_id')\u001b[0m\u001b[1;33m\u001b[0m\u001b[1;33m\u001b[0m\u001b[1;33m\u001b[0m\u001b[0m\n\u001b[1;32m---> 42\u001b[1;33m     \u001b[0mresponse\u001b[0m \u001b[1;33m=\u001b[0m \u001b[0mtwitter\u001b[0m\u001b[1;33m.\u001b[0m\u001b[0msearch\u001b[0m\u001b[1;33m(\u001b[0m\u001b[0mq\u001b[0m \u001b[1;33m=\u001b[0m \u001b[0mkeyword\u001b[0m\u001b[1;33m,\u001b[0m \u001b[0mcount\u001b[0m \u001b[1;33m=\u001b[0m \u001b[0mtweetsXiteration\u001b[0m\u001b[1;33m,\u001b[0m \u001b[0msince\u001b[0m \u001b[1;33m=\u001b[0m \u001b[0mdateFrom\u001b[0m\u001b[1;33m,\u001b[0m \u001b[0muntil\u001b[0m \u001b[1;33m=\u001b[0m \u001b[0mdateTo\u001b[0m\u001b[1;33m,\u001b[0m \u001b[0mmax_id\u001b[0m \u001b[1;33m=\u001b[0m \u001b[0mmaxID\u001b[0m\u001b[1;33m,\u001b[0m \u001b[0minclude_entities\u001b[0m \u001b[1;33m=\u001b[0m \u001b[1;36m1\u001b[0m\u001b[1;33m,\u001b[0m \u001b[0mresult_type\u001b[0m \u001b[1;33m=\u001b[0m \u001b[1;34m'mixed'\u001b[0m\u001b[1;33m)\u001b[0m\u001b[1;33m;\u001b[0m\u001b[1;33m\u001b[0m\u001b[1;33m\u001b[0m\u001b[0m\n\u001b[0m\u001b[0;32m     43\u001b[0m \u001b[1;33m\u001b[0m\u001b[0m\n\u001b[0;32m     44\u001b[0m     \u001b[1;31m#Updating the total amount of tweets fetched\u001b[0m\u001b[1;33m\u001b[0m\u001b[1;33m\u001b[0m\u001b[1;33m\u001b[0m\u001b[0m\n",
      "\u001b[1;32mC:\\Users\\Public\\Anaconda3\\lib\\site-packages\\twython\\endpoints.py\u001b[0m in \u001b[0;36msearch\u001b[1;34m(self, **params)\u001b[0m\n\u001b[0;32m    291\u001b[0m \u001b[1;33m\u001b[0m\u001b[0m\n\u001b[0;32m    292\u001b[0m         \"\"\"\n\u001b[1;32m--> 293\u001b[1;33m         \u001b[1;32mreturn\u001b[0m \u001b[0mself\u001b[0m\u001b[1;33m.\u001b[0m\u001b[0mget\u001b[0m\u001b[1;33m(\u001b[0m\u001b[1;34m'search/tweets'\u001b[0m\u001b[1;33m,\u001b[0m \u001b[0mparams\u001b[0m\u001b[1;33m=\u001b[0m\u001b[0mparams\u001b[0m\u001b[1;33m)\u001b[0m\u001b[1;33m\u001b[0m\u001b[1;33m\u001b[0m\u001b[0m\n\u001b[0m\u001b[0;32m    294\u001b[0m     \u001b[0msearch\u001b[0m\u001b[1;33m.\u001b[0m\u001b[0miter_mode\u001b[0m \u001b[1;33m=\u001b[0m \u001b[1;34m'id'\u001b[0m\u001b[1;33m\u001b[0m\u001b[1;33m\u001b[0m\u001b[0m\n\u001b[0;32m    295\u001b[0m     \u001b[0msearch\u001b[0m\u001b[1;33m.\u001b[0m\u001b[0miter_key\u001b[0m \u001b[1;33m=\u001b[0m \u001b[1;34m'statuses'\u001b[0m\u001b[1;33m\u001b[0m\u001b[1;33m\u001b[0m\u001b[0m\n",
      "\u001b[1;32mC:\\Users\\Public\\Anaconda3\\lib\\site-packages\\twython\\api.py\u001b[0m in \u001b[0;36mget\u001b[1;34m(self, endpoint, params, version)\u001b[0m\n\u001b[0;32m    268\u001b[0m     \u001b[1;32mdef\u001b[0m \u001b[0mget\u001b[0m\u001b[1;33m(\u001b[0m\u001b[0mself\u001b[0m\u001b[1;33m,\u001b[0m \u001b[0mendpoint\u001b[0m\u001b[1;33m,\u001b[0m \u001b[0mparams\u001b[0m\u001b[1;33m=\u001b[0m\u001b[1;32mNone\u001b[0m\u001b[1;33m,\u001b[0m \u001b[0mversion\u001b[0m\u001b[1;33m=\u001b[0m\u001b[1;34m'1.1'\u001b[0m\u001b[1;33m)\u001b[0m\u001b[1;33m:\u001b[0m\u001b[1;33m\u001b[0m\u001b[1;33m\u001b[0m\u001b[0m\n\u001b[0;32m    269\u001b[0m         \u001b[1;34m\"\"\"Shortcut for GET requests via :class:`request`\"\"\"\u001b[0m\u001b[1;33m\u001b[0m\u001b[1;33m\u001b[0m\u001b[0m\n\u001b[1;32m--> 270\u001b[1;33m         \u001b[1;32mreturn\u001b[0m \u001b[0mself\u001b[0m\u001b[1;33m.\u001b[0m\u001b[0mrequest\u001b[0m\u001b[1;33m(\u001b[0m\u001b[0mendpoint\u001b[0m\u001b[1;33m,\u001b[0m \u001b[0mparams\u001b[0m\u001b[1;33m=\u001b[0m\u001b[0mparams\u001b[0m\u001b[1;33m,\u001b[0m \u001b[0mversion\u001b[0m\u001b[1;33m=\u001b[0m\u001b[0mversion\u001b[0m\u001b[1;33m)\u001b[0m\u001b[1;33m\u001b[0m\u001b[1;33m\u001b[0m\u001b[0m\n\u001b[0m\u001b[0;32m    271\u001b[0m \u001b[1;33m\u001b[0m\u001b[0m\n\u001b[0;32m    272\u001b[0m     \u001b[1;32mdef\u001b[0m \u001b[0mpost\u001b[0m\u001b[1;33m(\u001b[0m\u001b[0mself\u001b[0m\u001b[1;33m,\u001b[0m \u001b[0mendpoint\u001b[0m\u001b[1;33m,\u001b[0m \u001b[0mparams\u001b[0m\u001b[1;33m=\u001b[0m\u001b[1;32mNone\u001b[0m\u001b[1;33m,\u001b[0m \u001b[0mversion\u001b[0m\u001b[1;33m=\u001b[0m\u001b[1;34m'1.1'\u001b[0m\u001b[1;33m)\u001b[0m\u001b[1;33m:\u001b[0m\u001b[1;33m\u001b[0m\u001b[1;33m\u001b[0m\u001b[0m\n",
      "\u001b[1;32mC:\\Users\\Public\\Anaconda3\\lib\\site-packages\\twython\\api.py\u001b[0m in \u001b[0;36mrequest\u001b[1;34m(self, endpoint, method, params, version)\u001b[0m\n\u001b[0;32m    262\u001b[0m \u001b[1;33m\u001b[0m\u001b[0m\n\u001b[0;32m    263\u001b[0m         content = self._request(url, method=method, params=params,\n\u001b[1;32m--> 264\u001b[1;33m                                 api_call=url)\n\u001b[0m\u001b[0;32m    265\u001b[0m \u001b[1;33m\u001b[0m\u001b[0m\n\u001b[0;32m    266\u001b[0m         \u001b[1;32mreturn\u001b[0m \u001b[0mcontent\u001b[0m\u001b[1;33m\u001b[0m\u001b[1;33m\u001b[0m\u001b[0m\n",
      "\u001b[1;32mC:\\Users\\Public\\Anaconda3\\lib\\site-packages\\twython\\api.py\u001b[0m in \u001b[0;36m_request\u001b[1;34m(self, url, method, params, api_call)\u001b[0m\n\u001b[0;32m    197\u001b[0m                 \u001b[0merror_message\u001b[0m\u001b[1;33m,\u001b[0m\u001b[1;33m\u001b[0m\u001b[1;33m\u001b[0m\u001b[0m\n\u001b[0;32m    198\u001b[0m                 \u001b[0merror_code\u001b[0m\u001b[1;33m=\u001b[0m\u001b[0mresponse\u001b[0m\u001b[1;33m.\u001b[0m\u001b[0mstatus_code\u001b[0m\u001b[1;33m,\u001b[0m\u001b[1;33m\u001b[0m\u001b[1;33m\u001b[0m\u001b[0m\n\u001b[1;32m--> 199\u001b[1;33m                 retry_after=response.headers.get('X-Rate-Limit-Reset'))\n\u001b[0m\u001b[0;32m    200\u001b[0m         \u001b[0mcontent\u001b[0m \u001b[1;33m=\u001b[0m \u001b[1;34m''\u001b[0m\u001b[1;33m\u001b[0m\u001b[1;33m\u001b[0m\u001b[0m\n\u001b[0;32m    201\u001b[0m         \u001b[1;32mtry\u001b[0m\u001b[1;33m:\u001b[0m\u001b[1;33m\u001b[0m\u001b[1;33m\u001b[0m\u001b[0m\n",
      "\u001b[1;31mTwythonRateLimitError\u001b[0m: Twitter API returned a 429 (Too Many Requests), Rate limit exceeded"
     ]
    }
   ],
   "source": [
    "#Import the required modules\n",
    "from twython import Twython\n",
    "import json\n",
    "import csv\n",
    "\n",
    "#Set parameters\n",
    "keyword = 'kittens'; #The desired keyword(s)\n",
    "tweetsXiteration = 100; #Where 100 is the max\n",
    "dateFrom = '2020-01-01'; #Inclusive (YYYY-MM-DD)\n",
    "dateTo = '2020-01-12'; #Exclusive (YYYY-MM-DD)\n",
    "done = False; #Must be false\n",
    "\n",
    "#Setting the OAuth\n",
    "Consumer_Key = 'uQzrQrZZFhsemKzkWPww61sPF'\n",
    "Consumer_Secret = 'mn89AIBAnCAeKAT8zyK6hpz0gRmeLG1WQB58P67Og44G9KqSYg'\n",
    "Access_Token = '3693728237-zcQEU55vMNVYzYeRWeFPup9bmg0Ybxt8gwCSCfF'\n",
    "Access_Token_Secret = 'HiZCJ8ADyLYXniwAIx9DMyQKgihxnOK6lqsKlk2QQYput'\n",
    "\n",
    "#Connection established with Twitter API v1.1\n",
    "twitter = Twython(Consumer_Key, Consumer_Secret, Access_Token, Access_Token_Secret);\n",
    "\n",
    "#Twitter is queried\n",
    "response = twitter.search(q = keyword, count = tweetsXiteration, since = dateFrom, until = dateTo, result_type = 'mixed');\n",
    "\n",
    "#Results (partial)\n",
    "countTweets = len(response['statuses']);\n",
    "\n",
    "#If all the tweets have been fetched, then we are done\n",
    "if not ('next_results' in response['search_metadata']): \n",
    "    done = True;\n",
    "\n",
    "#If not all the tweets have been fetched, then...\n",
    "while (done == False):\n",
    "\n",
    "    #Parsing information for maxID\n",
    "    parse1 = response['search_metadata']['next_results'].split(\"&\");\n",
    "    parse2 = parse1[0].split(\"?max_id=\");\n",
    "    parse3 = parse2[1];\n",
    "    maxID = parse3;\n",
    "\n",
    "    #Twitter is queried (again, this time with the addition of 'max_id')\n",
    "    response = twitter.search(q = keyword, count = tweetsXiteration, since = dateFrom, until = dateTo, max_id = maxID, include_entities = 1, result_type = 'mixed');\n",
    "\n",
    "    #Updating the total amount of tweets fetched\n",
    "    countTweets = countTweets + len(response['statuses']);       \n",
    "\n",
    "    #If all the tweets have been fetched, then we are done\n",
    "    if not ('next_results' in response['search_metadata']): \n",
    "        done = True;\n",
    "\n",
    "print(countTweets);"
   ]
  },
  {
   "cell_type": "code",
   "execution_count": null,
   "metadata": {},
   "outputs": [],
   "source": []
  }
 ],
 "metadata": {
  "kernelspec": {
   "display_name": "Python 3",
   "language": "python",
   "name": "python3"
  },
  "language_info": {
   "codemirror_mode": {
    "name": "ipython",
    "version": 3
   },
   "file_extension": ".py",
   "mimetype": "text/x-python",
   "name": "python",
   "nbconvert_exporter": "python",
   "pygments_lexer": "ipython3",
   "version": "3.7.4"
  }
 },
 "nbformat": 4,
 "nbformat_minor": 2
}
