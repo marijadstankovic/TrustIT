{
 "cells": [
  {
   "cell_type": "code",
   "execution_count": 3,
   "metadata": {},
   "outputs": [
    {
     "name": "stdout",
     "output_type": "stream",
     "text": [
      "{'request_info': {'success': True, 'credits_used': 40, 'credits_remaining': 60, 'message': 'This request was free of charge as it was served from the cache.'}, 'search_metadata': {'id': '3c95f4646f83c4f903ac9577f370f45b0d97dcab', 'created_at': '2020-02-16T23:06:15.569Z', 'processed_at': '2020-02-16T23:06:15.715Z', 'total_time_taken': 0.15, 'retrieval_strategy': 0, 'engine_url': 'https://www.google.com/search?q=trump+is+dead', 'cached': True, 'cache_age': '2020-02-16T21:24:23.000Z', 'cache_message': \"This result was returned free of charge from the cache. To control this behaviour use the 'no_cache' or 'cache_max_age_minutes' parameters. The 'cache_age' property shows you the time at which this result was last cached.\"}, 'search_parameters': {'output': 'json', 'q': 'trump is dead', 'source': 'python', 'engine': 'google'}, 'search_information': {'original_query_yields_zero_results': False, 'query_displayed': 'trump is dead'}, 'top_stories': [{'link': 'https://www.nytimes.com/2020/02/13/us/politics/trump-bloomberg.html', 'title': 'Trump and Bloomberg Swap Insults on Twitter', 'visible_initially': True, 'source': 'The New York Times', 'date': '3 days ago', 'date_utc': '2020-02-13T12:00:00.000Z', 'block_position': 1}, {'link': 'https://www.nbcnewyork.com/news/politics/mass-of-dead-energy-carnival-barking-clown-trump-bloomberg-spat-gets-nastier/2288386/', 'title': '‘Mass of Dead Energy’? ‘Carnival Barking Clown’? Trump-Bloomberg Spat Gets \\nNastier', 'visible_initially': True, 'source': 'NBC New York', 'date': '3 days ago', 'date_utc': '2020-02-13T12:00:00.000Z', 'block_position': 1}, {'link': 'https://www.inquirer.com/opinion/commentary/michael-bloomberg-trump-election-money-in-politics-20200216.html', 'title': 'Bloomberg vs. Trump would mean America has already amused itself to death | \\nWill Bunch', 'visible_initially': True, 'source': 'Philadelphia Inquirer', 'date': '2 hours ago', 'date_utc': '2020-02-16T19:24:22.000Z', 'block_position': 1}, {'link': 'https://www.nytimes.com/2020/02/13/us/politics/trump-bloomberg.html', 'title': 'Trump and Bloomberg Swap Insults on Twitter', 'visible_initially': True, 'source': 'The New York Times', 'date': '3 days ago', 'date_utc': '2020-02-13T12:00:00.000Z', 'block_position': 1}, {'link': 'https://www.nbcnewyork.com/news/politics/mass-of-dead-energy-carnival-barking-clown-trump-bloomberg-spat-gets-nastier/2288386/', 'title': '‘Mass of Dead Energy’? ‘Carnival Barking Clown’? Trump-Bloomberg Spat Gets \\nNastier', 'visible_initially': True, 'source': 'NBC New York', 'date': '3 days ago', 'date_utc': '2020-02-13T12:00:00.000Z', 'block_position': 1}, {'link': 'https://www.inquirer.com/opinion/commentary/michael-bloomberg-trump-election-money-in-politics-20200216.html', 'title': 'Bloomberg vs. Trump would mean America has already amused itself to death | \\nWill Bunch', 'visible_initially': True, 'source': 'Philadelphia Inquirer', 'date': '2 hours ago', 'date_utc': '2020-02-16T19:24:22.000Z', 'block_position': 1}, {'link': 'https://www.nytimes.com/2020/02/13/climate/trump-fuel-economy-rollback.html', 'title': 'Trump’s Path to Weaker Fuel Efficiency Rules May Lead to a Dead End', 'visible_initially': False, 'source': 'The New York Times', 'date': '3 days ago', 'date_utc': '2020-02-13T12:00:00.000Z', 'block_position': 1}, {'link': 'https://thehill.com/policy/finance/482356-democrats-pan-trumps-budget-proposal-dead-on-arrival', 'title': \"Democrats pan Trump's budget proposal as 'dead on arrival' | TheHill\", 'visible_initially': False, 'source': 'TheHill', 'date': '6 days ago', 'date_utc': '2020-02-10T12:00:00.000Z', 'block_position': 1}, {'link': 'https://www.politico.com/states/new-york/albany/story/2020/02/06/trump-to-new-york-travelers-drop-dead-1259360', 'title': 'Trump to New York travelers: Drop dead', 'visible_initially': False, 'source': 'Politico', 'date': '1 week ago', 'date_utc': '2020-02-09T12:00:00.000Z', 'block_position': 1}, {'link': 'https://www.nytimes.com/2020/01/30/opinion/peace-plan-trump.html', 'title': 'Trump’s Middle East Plan: Starting Point or Dead End?', 'visible_initially': False, 'source': 'The New York Times', 'date': '2 weeks ago', 'date_utc': '2020-02-02T12:00:00.000Z', 'block_position': 1}], 'top_stories_extra': {'more_news_link': 'https://www.google.com/search?q=trump+is+dead&tbm=nws&source=univ&tbo=u&sa=X&ved=2ahUKEwjDroH_gNfnAhVyxMQBHU76BMAQt8YBKAF6BAgJECI'}, 'pagination': {'current': 1, 'next': 'https://www.google.com/search?q=trump+is+dead&ei=BbNJXoOYBfKIk74PzvSTgAw&start=10&sa=N&ved=2ahUKEwjDroH_gNfnAhVyxMQBHU76BMAQ8NMDegQICxA_', 'other_pages': {'2': 'https://www.google.com/search?q=trump+is+dead&ei=BbNJXoOYBfKIk74PzvSTgAw&start=10&sa=N&ved=2ahUKEwjDroH_gNfnAhVyxMQBHU76BMAQ8tMDegQICxAt', '3': 'https://www.google.com/search?q=trump+is+dead&ei=BbNJXoOYBfKIk74PzvSTgAw&start=20&sa=N&ved=2ahUKEwjDroH_gNfnAhVyxMQBHU76BMAQ8tMDegQICxAv', '4': 'https://www.google.com/search?q=trump+is+dead&ei=BbNJXoOYBfKIk74PzvSTgAw&start=30&sa=N&ved=2ahUKEwjDroH_gNfnAhVyxMQBHU76BMAQ8tMDegQICxAx', '5': 'https://www.google.com/search?q=trump+is+dead&ei=BbNJXoOYBfKIk74PzvSTgAw&start=40&sa=N&ved=2ahUKEwjDroH_gNfnAhVyxMQBHU76BMAQ8tMDegQICxAz', '6': 'https://www.google.com/search?q=trump+is+dead&ei=BbNJXoOYBfKIk74PzvSTgAw&start=50&sa=N&ved=2ahUKEwjDroH_gNfnAhVyxMQBHU76BMAQ8tMDegQICxA1', '7': 'https://www.google.com/search?q=trump+is+dead&ei=BbNJXoOYBfKIk74PzvSTgAw&start=60&sa=N&ved=2ahUKEwjDroH_gNfnAhVyxMQBHU76BMAQ8tMDegQICxA3', '8': 'https://www.google.com/search?q=trump+is+dead&ei=BbNJXoOYBfKIk74PzvSTgAw&start=70&sa=N&ved=2ahUKEwjDroH_gNfnAhVyxMQBHU76BMAQ8tMDegQICxA5', '9': 'https://www.google.com/search?q=trump+is+dead&ei=BbNJXoOYBfKIk74PzvSTgAw&start=80&sa=N&ved=2ahUKEwjDroH_gNfnAhVyxMQBHU76BMAQ8tMDegQICxA7', '10': 'https://www.google.com/search?q=trump+is+dead&ei=BbNJXoOYBfKIk74PzvSTgAw&start=90&sa=N&ved=2ahUKEwjDroH_gNfnAhVyxMQBHU76BMAQ8tMDegQICxA9'}, 'api_pagination': {'next': 'https://api.serpwow.com/live/search?api_key=2B1602EDBBCB4884BD27D8C76893A67E&output=json&q=trump%20is%20dead&source=python&engine=google&page=2', 'other_pages': {'2': 'https://api.serpwow.com/live/search?api_key=2B1602EDBBCB4884BD27D8C76893A67E&output=json&q=trump%20is%20dead&source=python&engine=google&page=2', '3': 'https://api.serpwow.com/live/search?api_key=2B1602EDBBCB4884BD27D8C76893A67E&output=json&q=trump%20is%20dead&source=python&engine=google&page=3', '4': 'https://api.serpwow.com/live/search?api_key=2B1602EDBBCB4884BD27D8C76893A67E&output=json&q=trump%20is%20dead&source=python&engine=google&page=4', '5': 'https://api.serpwow.com/live/search?api_key=2B1602EDBBCB4884BD27D8C76893A67E&output=json&q=trump%20is%20dead&source=python&engine=google&page=5', '6': 'https://api.serpwow.com/live/search?api_key=2B1602EDBBCB4884BD27D8C76893A67E&output=json&q=trump%20is%20dead&source=python&engine=google&page=6', '7': 'https://api.serpwow.com/live/search?api_key=2B1602EDBBCB4884BD27D8C76893A67E&output=json&q=trump%20is%20dead&source=python&engine=google&page=7', '8': 'https://api.serpwow.com/live/search?api_key=2B1602EDBBCB4884BD27D8C76893A67E&output=json&q=trump%20is%20dead&source=python&engine=google&page=8', '9': 'https://api.serpwow.com/live/search?api_key=2B1602EDBBCB4884BD27D8C76893A67E&output=json&q=trump%20is%20dead&source=python&engine=google&page=9', '10': 'https://api.serpwow.com/live/search?api_key=2B1602EDBBCB4884BD27D8C76893A67E&output=json&q=trump%20is%20dead&source=python&engine=google&page=10'}}}, 'organic_results': [{'position': 1, 'title': 'Trump to New York travelers: Drop dead - Politico', 'link': 'https://www.politico.com/states/new-york/albany/story/2020/02/06/trump-to-new-york-travelers-drop-dead-1259360', 'domain': 'www.politico.com', 'displayed_link': 'www.politico.com › states › new-york › albany › story › 2020/02/06www.politico.com › states › new-york › albany › story › 2020/02/06', 'snippet': 'Trump to New York travelers: Drop dead. By ERIN DURKIN. 02/06/2020 05:04 PM EST. Updated 02/06/2020 05:27 PM EST. 2020-02-06T05:27-0500. Share on \\xa0...', 'prerender': False, 'snippet_matched': ['Trump', 'dead'], 'cached_page_link': 'https://webcache.googleusercontent.com/search?q=cache:udKYPN4u7I4J:https://www.politico.com/states/new-york/albany/story/2020/02/06/trump-to-new-york-travelers-drop-dead-1259360+&cd=8&hl=en&ct=clnk&gl=us', 'block_position': 2}, {'position': 2, 'title': \"Democrats pan Trump's budget proposal as 'dead on arrival ...\", 'link': 'https://thehill.com/policy/finance/482356-democrats-pan-trumps-budget-proposal-dead-on-arrival', 'domain': 'thehill.com', 'displayed_link': 'thehill.com › policy › finance › 482356-democrats-pan-trumps-budg...thehill.com › policy › finance › 482356-democrats-pan-trumps-budg...', 'snippet': '6 days ago - The $4.8 trillion plan includes cuts that would break with a two-year budget deal agreed to by both the White House and congressional leadership.  \"As typical, President Trump’s budget shows his State of the Union address was lie upon lie to the American people,\" Schumer said in ...', 'prerender': False, 'snippet_matched': ['Trump’s'], 'cached_page_link': 'https://webcache.googleusercontent.com/search?q=cache:hTrCFoqrU2oJ:https://thehill.com/policy/finance/482356-democrats-pan-trumps-budget-proposal-dead-on-arrival+&cd=9&hl=en&ct=clnk&gl=us', 'block_position': 2}, {'position': 3, 'title': \"Trump on Soleimani: He was a monster, and now he's dead ...\", 'link': 'https://www.cnn.com/videos/politics/2020/01/08/trump-soleimani-monster-moos-pkg-vpx.cnn', 'domain': 'www.cnn.com', 'displayed_link': 'www.cnn.com › videos › politics › 2020/01/08 › trump-soleimani-mons...www.cnn.com › videos › politics › 2020/01/08 › trump-soleimani-mons...', 'snippet': 'Jan 8, 2020 - President Donald Trump describes Qasem Soleimani as a \"monster,\" provoking opposite reactions from fans and critics. CNN\\'s Jeanne Moos\\xa0...', 'prerender': False, 'snippet_matched': ['Trump'], 'block_position': 2}, {'position': 4, 'title': 'All The Ways Trump Is Dead Wrong About Juror Bias In Roger ...', 'link': 'https://talkingpointsmemo.com/muckraker/all-the-ways-trump-is-dead-wrong-about-juror-bias-in-roger-stone-case', 'domain': 'talkingpointsmemo.com', 'displayed_link': 'talkingpointsmemo.com › News › Muckrakertalkingpointsmemo.com › News › Muckraker', 'snippet': '3 days ago - President Trump accused the jury foreperson in the trial of GOP provocateur Roger Stone of “bias” on Thursday, a claim that shows the\\xa0...', 'prerender': False, 'snippet_matched': ['Trump'], 'cached_page_link': 'https://webcache.googleusercontent.com/search?q=cache:2EMjFNLmOzMJ:https://talkingpointsmemo.com/muckraker/all-the-ways-trump-is-dead-wrong-about-juror-bias-in-roger-stone-case+&cd=11&hl=en&ct=clnk&gl=us', 'block_position': 2}, {'position': 5, 'title': \"'Mass of Dead Energy'? 'Carnival Barking Clown'? Trump ...\", 'link': 'https://www.nbcnewyork.com/news/politics/mass-of-dead-energy-carnival-barking-clown-trump-bloomberg-spat-gets-nastier/2288386/', 'domain': 'www.nbcnewyork.com', 'displayed_link': 'www.nbcnewyork.com › news › politics › mass-of-dead-energy-carni...www.nbcnewyork.com › news › politics › mass-of-dead-energy-carni...', 'snippet': '3 days ago - Even by the standards of modern presidential politics, President Donald Trump and former New York City Mayor Michael Bloomberg set a new\\xa0...', 'prerender': False, 'snippet_matched': ['Trump'], 'cached_page_link': 'https://webcache.googleusercontent.com/search?q=cache:G4ismLu6ZyQJ:https://www.nbcnewyork.com/news/politics/mass-of-dead-energy-carnival-barking-clown-trump-bloomberg-spat-gets-nastier/2288386/+&cd=12&hl=en&ct=clnk&gl=us', 'block_position': 2}, {'position': 6, 'title': 'Man Arrested for Trump Death Threat Video - The Daily Beast', 'link': 'https://www.thedailybeast.com/man-arrested-for-trump-death-threat-video', 'domain': 'www.thedailybeast.com', 'displayed_link': 'www.thedailybeast.com › man-arrested-for-trump-death-threat-videowww.thedailybeast.com › man-arrested-for-trump-death-threat-video', 'snippet': 'Authorities have arrested a 26-year-old Indiana man for allegedly threatening to kill Donald Trump and his family. Richard Deville Jr., of Clarksville, was seen in\\xa0...', 'prerender': False, 'snippet_matched': ['Trump'], 'cached_page_link': 'https://webcache.googleusercontent.com/search?q=cache:Sn0EdDH4fLMJ:https://www.thedailybeast.com/man-arrested-for-trump-death-threat-video+&cd=13&hl=en&ct=clnk&gl=us', 'block_position': 2}, {'position': 7, 'title': 'Donald Trump Confirms Death of Bin Laden Son', 'link': 'https://www.thedailybeast.com/donald-trump-confirms-death-of-bin-laden-son-hamza-bin-laden', 'domain': 'www.thedailybeast.com', 'displayed_link': 'www.thedailybeast.com › donald-trump-confirms-death-of-bin-laden-...www.thedailybeast.com › donald-trump-confirms-death-of-bin-laden-...', 'snippet': \"President Trump confirmed in a statement on Saturday that Osama bin Laden's son Hamza bin Laden has been “killed in a United States counterterrorism\\xa0...\", 'prerender': False, 'snippet_matched': ['Trump'], 'cached_page_link': 'https://webcache.googleusercontent.com/search?q=cache:cyLLIPm928QJ:https://www.thedailybeast.com/donald-trump-confirms-death-of-bin-laden-son-hamza-bin-laden+&cd=14&hl=en&ct=clnk&gl=us', 'block_position': 2}, {'position': 8, 'title': \"Trump's Iran Policy Is Brain-Dead - Foreign Policy\", 'link': 'https://foreignpolicy.com/2020/01/03/qassem-suleimani-trump-iran-policy-lacks-coherent-objectives-strategy/', 'domain': 'foreignpolicy.com', 'displayed_link': 'foreignpolicy.com › 2020/01/03 › qassem-suleimani-trump-iran-polic...foreignpolicy.com › 2020/01/03 › qassem-suleimani-trump-iran-polic...', 'snippet': \"Jan 3, 2020 - Well, that didn't take long. 2020 is less than a week old, and U.S. President Donald Trump has managed to stumble into another pointless and\\xa0...\", 'prerender': False, 'snippet_matched': ['Trump'], 'cached_page_link': 'https://webcache.googleusercontent.com/search?q=cache:fCbT4IxcPvcJ:https://foreignpolicy.com/2020/01/03/qassem-suleimani-trump-iran-policy-lacks-coherent-objectives-strategy/+&cd=15&hl=en&ct=clnk&gl=us', 'block_position': 2}, {'position': 9, 'title': \"Trump calls Qassem Soleimani a 'son of a bitch' at rally\", 'link': 'https://nypost.com/2020/01/14/trump-calls-dead-iranian-gen-qassem-soleimani-a-son-of-a-bitch-at-rally/', 'domain': 'nypost.com', 'displayed_link': 'nypost.com › 2020/01/14 › trump-calls-dead-iranian-gen-qassem-sole...nypost.com › 2020/01/14 › trump-calls-dead-iranian-gen-qassem-sole...', 'snippet': 'Jan 14, 2020 - President Trump called Iranian Gen. ... Trump calls dead Iranian Gen. ... Trump hosted the rally the same night as the Democratic debate a state\\xa0...', 'prerender': False, 'snippet_matched': ['Trump', 'Trump', 'dead', 'Trump'], 'cached_page_link': 'https://webcache.googleusercontent.com/search?q=cache:3BPAEIgzSxMJ:https://nypost.com/2020/01/14/trump-calls-dead-iranian-gen-qassem-soleimani-a-son-of-a-bitch-at-rally/+&cd=16&hl=en&ct=clnk&gl=us', 'block_position': 2}]}\n"
     ]
    },
    {
     "ename": "KeyError",
     "evalue": "'total_results'",
     "output_type": "error",
     "traceback": [
      "\u001b[1;31m---------------------------------------------------------------------------\u001b[0m",
      "\u001b[1;31mKeyError\u001b[0m                                  Traceback (most recent call last)",
      "\u001b[1;32m<ipython-input-3-8e369d09a9d6>\u001b[0m in \u001b[0;36m<module>\u001b[1;34m\u001b[0m\n\u001b[0;32m     17\u001b[0m \u001b[1;31m#         print()\u001b[0m\u001b[1;33m\u001b[0m\u001b[1;33m\u001b[0m\u001b[1;33m\u001b[0m\u001b[0m\n\u001b[0;32m     18\u001b[0m         \u001b[1;32mreturn\u001b[0m \u001b[0msearch_result_count\u001b[0m\u001b[1;33m\u001b[0m\u001b[1;33m\u001b[0m\u001b[0m\n\u001b[1;32m---> 19\u001b[1;33m \u001b[0mprint\u001b[0m\u001b[1;33m(\u001b[0m\u001b[0mgoogle_API\u001b[0m\u001b[1;33m(\u001b[0m\u001b[1;34m\"trump is dead\"\u001b[0m\u001b[1;33m)\u001b[0m\u001b[1;33m)\u001b[0m\u001b[1;33m\u001b[0m\u001b[1;33m\u001b[0m\u001b[0m\n\u001b[0m\u001b[0;32m     20\u001b[0m \u001b[1;31m#number of the results are not same as after real searching\u001b[0m\u001b[1;33m\u001b[0m\u001b[1;33m\u001b[0m\u001b[1;33m\u001b[0m\u001b[0m\n",
      "\u001b[1;32m<ipython-input-3-8e369d09a9d6>\u001b[0m in \u001b[0;36mgoogle_API\u001b[1;34m(q)\u001b[0m\n\u001b[0;32m     14\u001b[0m     \u001b[1;32mif\u001b[0m \u001b[0msuccess\u001b[0m\u001b[1;33m:\u001b[0m\u001b[1;33m\u001b[0m\u001b[1;33m\u001b[0m\u001b[0m\n\u001b[0;32m     15\u001b[0m         \u001b[1;31m# extract the time taken and number of organic results\u001b[0m\u001b[1;33m\u001b[0m\u001b[1;33m\u001b[0m\u001b[1;33m\u001b[0m\u001b[0m\n\u001b[1;32m---> 16\u001b[1;33m         \u001b[0msearch_result_count\u001b[0m \u001b[1;33m=\u001b[0m \u001b[0mresult\u001b[0m\u001b[1;33m[\u001b[0m\u001b[1;34m\"search_information\"\u001b[0m\u001b[1;33m]\u001b[0m\u001b[1;33m[\u001b[0m\u001b[1;34m\"total_results\"\u001b[0m\u001b[1;33m]\u001b[0m\u001b[1;33m\u001b[0m\u001b[1;33m\u001b[0m\u001b[0m\n\u001b[0m\u001b[0;32m     17\u001b[0m \u001b[1;31m#         print()\u001b[0m\u001b[1;33m\u001b[0m\u001b[1;33m\u001b[0m\u001b[1;33m\u001b[0m\u001b[0m\n\u001b[0;32m     18\u001b[0m         \u001b[1;32mreturn\u001b[0m \u001b[0msearch_result_count\u001b[0m\u001b[1;33m\u001b[0m\u001b[1;33m\u001b[0m\u001b[0m\n",
      "\u001b[1;31mKeyError\u001b[0m: 'total_results'"
     ]
    }
   ],
   "source": [
    "from serpwow.google_search_results import GoogleSearchResults\n",
    "import json\n",
    "\n",
    "# make a simple query, returning JSON\n",
    "serpwow = GoogleSearchResults(\"2B1602EDBBCB4884BD27D8C76893A67E\")\n",
    "#\n",
    "#3A28F57A9E714B479C830FAD3B1032BB\n",
    "def google_API(q):\n",
    "    result = serpwow.get_json({ \"q\" : q })\n",
    "\n",
    "    # determine if the request was successful\n",
    "    success = result[\"request_info\"][\"success\"]\n",
    "    print(result)\n",
    "    if success:\n",
    "        # extract the time taken and number of organic results\n",
    "        search_result_count = result[\"search_information\"][\"total_results\"]\n",
    "#         print()\n",
    "        return search_result_count\n",
    "print(google_API(\"trump is dead\"))\n",
    "#number of the results are not same as after real searching"
   ]
  },
  {
   "cell_type": "code",
   "execution_count": 2,
   "metadata": {},
   "outputs": [
    {
     "name": "stdout",
     "output_type": "stream",
     "text": [
      "Collecting google-search-results-serpwow\n",
      "  Downloading https://files.pythonhosted.org/packages/38/0d/b7f749890aefc6669c49292c0043b7aba4de6b407d75fc191b1d633b909d/google_search_results_serpwow-1.1.7-py3-none-any.whl\n",
      "Requirement already satisfied: requests in c:\\programdata\\anaconda3\\lib\\site-packages (from google-search-results-serpwow) (2.22.0)\n",
      "Requirement already satisfied: certifi>=2017.4.17 in c:\\programdata\\anaconda3\\lib\\site-packages (from requests->google-search-results-serpwow) (2019.9.11)\n",
      "Requirement already satisfied: urllib3!=1.25.0,!=1.25.1,<1.26,>=1.21.1 in c:\\programdata\\anaconda3\\lib\\site-packages (from requests->google-search-results-serpwow) (1.24.2)\n",
      "Requirement already satisfied: chardet<3.1.0,>=3.0.2 in c:\\programdata\\anaconda3\\lib\\site-packages (from requests->google-search-results-serpwow) (3.0.4)\n",
      "Requirement already satisfied: idna<2.9,>=2.5 in c:\\programdata\\anaconda3\\lib\\site-packages (from requests->google-search-results-serpwow) (2.8)\n",
      "Installing collected packages: google-search-results-serpwow\n",
      "Successfully installed google-search-results-serpwow-1.1.7\n",
      "Note: you may need to restart the kernel to use updated packages.\n"
     ]
    }
   ],
   "source": [
    "# pip install google-search-results-serpwow"
   ]
  },
  {
   "cell_type": "code",
   "execution_count": null,
   "metadata": {},
   "outputs": [],
   "source": []
  }
 ],
 "metadata": {
  "kernelspec": {
   "display_name": "Python 3",
   "language": "python",
   "name": "python3"
  },
  "language_info": {
   "codemirror_mode": {
    "name": "ipython",
    "version": 3
   },
   "file_extension": ".py",
   "mimetype": "text/x-python",
   "name": "python",
   "nbconvert_exporter": "python",
   "pygments_lexer": "ipython3",
   "version": "3.7.4"
  }
 },
 "nbformat": 4,
 "nbformat_minor": 2
}
